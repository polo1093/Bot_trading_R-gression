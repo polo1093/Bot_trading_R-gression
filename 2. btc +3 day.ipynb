{
 "cells": [
  {
   "cell_type": "markdown",
   "id": "7e584d83",
   "metadata": {},
   "source": [
    "## 2 [indicateur](#section_2) \n",
    "## 3 [prédiction](#section_3) \n",
    "## 4 [évaluation](#section_4) \n",
    "## 5 [bot](#section_5) "
   ]
  },
  {
   "cell_type": "code",
   "execution_count": 1,
   "id": "7f3f0e64",
   "metadata": {
    "ExecuteTime": {
     "end_time": "2021-11-18T21:35:10.802034Z",
     "start_time": "2021-11-18T21:35:08.076797Z"
    }
   },
   "outputs": [],
   "source": [
    "import pandas as pd\n",
    "from binance.client import Client\n",
    "import ta\n",
    "import pandas_ta as pda\n",
    "import matplotlib.pyplot as plt\n",
    "import numpy as np\n",
    "from termcolor import colored\n",
    "import seaborn as sns\n",
    "import time"
   ]
  },
  {
   "cell_type": "code",
   "execution_count": 2,
   "id": "9aeba571",
   "metadata": {
    "ExecuteTime": {
     "end_time": "2021-11-18T21:35:10.817993Z",
     "start_time": "2021-11-18T21:35:10.803031Z"
    }
   },
   "outputs": [],
   "source": [
    "font_title = {'family': 'serif',\n",
    "              'color':  '#1d479b',\n",
    "              'weight': 'bold',\n",
    "              'size': 18,\n",
    "             }\n",
    "\n",
    "# ----- Functions Definition -------\n",
    "def get_chop(high, low, close, window):\n",
    "    tr1 = pd.DataFrame(high - low).rename(columns = {0:'tr1'})\n",
    "    tr2 = pd.DataFrame(abs(high - close.shift(1))).rename(columns = {0:'tr2'})\n",
    "    tr3 = pd.DataFrame(abs(low - close.shift(1))).rename(columns = {0:'tr3'})\n",
    "    frames = [tr1, tr2, tr3]\n",
    "    tr = pd.concat(frames, axis = 1, join = 'inner').dropna().max(axis = 1)\n",
    "    atr = tr.rolling(1).mean()\n",
    "    highh = high.rolling(window).max()\n",
    "    lowl = low.rolling(window).min()\n",
    "    ci = 100 * np.log10((atr.rolling(window).sum()) / (highh - lowl)) / np.log10(window)\n",
    "    return ci"
   ]
  },
  {
   "cell_type": "code",
   "execution_count": 3,
   "id": "1133ff75",
   "metadata": {
    "ExecuteTime": {
     "end_time": "2021-11-18T21:35:10.864865Z",
     "start_time": "2021-11-18T21:35:10.819986Z"
    }
   },
   "outputs": [
    {
     "data": {
      "text/html": [
       "<div>\n",
       "<style scoped>\n",
       "    .dataframe tbody tr th:only-of-type {\n",
       "        vertical-align: middle;\n",
       "    }\n",
       "\n",
       "    .dataframe tbody tr th {\n",
       "        vertical-align: top;\n",
       "    }\n",
       "\n",
       "    .dataframe thead th {\n",
       "        text-align: right;\n",
       "    }\n",
       "</style>\n",
       "<table border=\"1\" class=\"dataframe\">\n",
       "  <thead>\n",
       "    <tr style=\"text-align: right;\">\n",
       "      <th></th>\n",
       "      <th>Open</th>\n",
       "      <th>High</th>\n",
       "      <th>Low</th>\n",
       "      <th>Close</th>\n",
       "      <th>Adj Close</th>\n",
       "      <th>Volume</th>\n",
       "    </tr>\n",
       "    <tr>\n",
       "      <th>Date</th>\n",
       "      <th></th>\n",
       "      <th></th>\n",
       "      <th></th>\n",
       "      <th></th>\n",
       "      <th></th>\n",
       "      <th></th>\n",
       "    </tr>\n",
       "  </thead>\n",
       "  <tbody>\n",
       "    <tr>\n",
       "      <th>2019-09-18</th>\n",
       "      <td>9253.401367</td>\n",
       "      <td>9316.917969</td>\n",
       "      <td>9240.340820</td>\n",
       "      <td>9246.486328</td>\n",
       "      <td>9246.486328</td>\n",
       "      <td>1.466026e+10</td>\n",
       "    </tr>\n",
       "    <tr>\n",
       "      <th>2019-09-19</th>\n",
       "      <td>9248.524414</td>\n",
       "      <td>9319.454102</td>\n",
       "      <td>8917.574219</td>\n",
       "      <td>9292.973633</td>\n",
       "      <td>9292.973633</td>\n",
       "      <td>1.804724e+10</td>\n",
       "    </tr>\n",
       "    <tr>\n",
       "      <th>2019-09-20</th>\n",
       "      <td>9292.886719</td>\n",
       "      <td>9334.069336</td>\n",
       "      <td>9194.604492</td>\n",
       "      <td>9239.483398</td>\n",
       "      <td>9239.483398</td>\n",
       "      <td>1.337076e+10</td>\n",
       "    </tr>\n",
       "    <tr>\n",
       "      <th>2019-09-21</th>\n",
       "      <td>9241.304688</td>\n",
       "      <td>9245.341797</td>\n",
       "      <td>9075.292969</td>\n",
       "      <td>9092.541992</td>\n",
       "      <td>9092.541992</td>\n",
       "      <td>1.218296e+10</td>\n",
       "    </tr>\n",
       "    <tr>\n",
       "      <th>2019-09-22</th>\n",
       "      <td>9096.534180</td>\n",
       "      <td>9142.628906</td>\n",
       "      <td>9004.768555</td>\n",
       "      <td>9138.951172</td>\n",
       "      <td>9138.951172</td>\n",
       "      <td>1.197878e+10</td>\n",
       "    </tr>\n",
       "    <tr>\n",
       "      <th>...</th>\n",
       "      <td>...</td>\n",
       "      <td>...</td>\n",
       "      <td>...</td>\n",
       "      <td>...</td>\n",
       "      <td>...</td>\n",
       "      <td>...</td>\n",
       "    </tr>\n",
       "    <tr>\n",
       "      <th>2021-10-22</th>\n",
       "      <td>53539.585938</td>\n",
       "      <td>54746.941406</td>\n",
       "      <td>51720.335938</td>\n",
       "      <td>52123.003906</td>\n",
       "      <td>52123.003906</td>\n",
       "      <td>3.300750e+10</td>\n",
       "    </tr>\n",
       "    <tr>\n",
       "      <th>2021-10-23</th>\n",
       "      <td>52125.031250</td>\n",
       "      <td>53026.136719</td>\n",
       "      <td>51379.496094</td>\n",
       "      <td>52734.601563</td>\n",
       "      <td>52734.601563</td>\n",
       "      <td>2.309100e+10</td>\n",
       "    </tr>\n",
       "    <tr>\n",
       "      <th>2021-10-24</th>\n",
       "      <td>52712.890625</td>\n",
       "      <td>52830.964844</td>\n",
       "      <td>51231.187500</td>\n",
       "      <td>52347.996094</td>\n",
       "      <td>52347.996094</td>\n",
       "      <td>2.346837e+10</td>\n",
       "    </tr>\n",
       "    <tr>\n",
       "      <th>2021-10-25</th>\n",
       "      <td>52316.289063</td>\n",
       "      <td>54906.253906</td>\n",
       "      <td>52119.687500</td>\n",
       "      <td>54303.453125</td>\n",
       "      <td>54303.453125</td>\n",
       "      <td>2.675978e+10</td>\n",
       "    </tr>\n",
       "    <tr>\n",
       "      <th>2021-10-26</th>\n",
       "      <td>54262.781250</td>\n",
       "      <td>54484.171875</td>\n",
       "      <td>53382.664063</td>\n",
       "      <td>53592.636719</td>\n",
       "      <td>53592.636719</td>\n",
       "      <td>2.763873e+10</td>\n",
       "    </tr>\n",
       "  </tbody>\n",
       "</table>\n",
       "<p>770 rows × 6 columns</p>\n",
       "</div>"
      ],
      "text/plain": [
       "                    Open          High           Low         Close  \\\n",
       "Date                                                                 \n",
       "2019-09-18   9253.401367   9316.917969   9240.340820   9246.486328   \n",
       "2019-09-19   9248.524414   9319.454102   8917.574219   9292.973633   \n",
       "2019-09-20   9292.886719   9334.069336   9194.604492   9239.483398   \n",
       "2019-09-21   9241.304688   9245.341797   9075.292969   9092.541992   \n",
       "2019-09-22   9096.534180   9142.628906   9004.768555   9138.951172   \n",
       "...                  ...           ...           ...           ...   \n",
       "2021-10-22  53539.585938  54746.941406  51720.335938  52123.003906   \n",
       "2021-10-23  52125.031250  53026.136719  51379.496094  52734.601563   \n",
       "2021-10-24  52712.890625  52830.964844  51231.187500  52347.996094   \n",
       "2021-10-25  52316.289063  54906.253906  52119.687500  54303.453125   \n",
       "2021-10-26  54262.781250  54484.171875  53382.664063  53592.636719   \n",
       "\n",
       "               Adj Close        Volume  \n",
       "Date                                    \n",
       "2019-09-18   9246.486328  1.466026e+10  \n",
       "2019-09-19   9292.973633  1.804724e+10  \n",
       "2019-09-20   9239.483398  1.337076e+10  \n",
       "2019-09-21   9092.541992  1.218296e+10  \n",
       "2019-09-22   9138.951172  1.197878e+10  \n",
       "...                  ...           ...  \n",
       "2021-10-22  52123.003906  3.300750e+10  \n",
       "2021-10-23  52734.601563  2.309100e+10  \n",
       "2021-10-24  52347.996094  2.346837e+10  \n",
       "2021-10-25  54303.453125  2.675978e+10  \n",
       "2021-10-26  53592.636719  2.763873e+10  \n",
       "\n",
       "[770 rows x 6 columns]"
      ]
     },
     "execution_count": 3,
     "metadata": {},
     "output_type": "execute_result"
    }
   ],
   "source": [
    "bitcoin= pd.read_csv('./Data/BTC-EUR.csv',index_col='Date',parse_dates=True)\n",
    "bitcoin"
   ]
  },
  {
   "cell_type": "code",
   "execution_count": 4,
   "id": "6d07d176",
   "metadata": {
    "ExecuteTime": {
     "end_time": "2021-11-18T21:35:11.450313Z",
     "start_time": "2021-11-18T21:35:10.866861Z"
    }
   },
   "outputs": [
    {
     "data": {
      "image/png": "[encoded data removed]",
      "text/plain": [
       "<Figure size 432x288 with 1 Axes>"
      ]
     },
     "metadata": {
      "needs_background": "light"
     },
     "output_type": "display_data"
    }
   ],
   "source": [
    "bitcoin['Close']['2020'].resample('M').plot();\n",
    "bitcoin['Close']['2020'].resample('M').mean().plot()\n",
    "bitcoin['Close']['2020'].resample('2W').mean().plot();"
   ]
  },
  {
   "cell_type": "code",
   "execution_count": 5,
   "id": "d4a33272",
   "metadata": {
    "ExecuteTime": {
     "end_time": "2021-11-18T21:35:11.845253Z",
     "start_time": "2021-11-18T21:35:11.452310Z"
    }
   },
   "outputs": [
    {
     "data": {
      "image/png": "[encoded data removed]",
      "text/plain": [
       "<Figure size 864x576 with 1 Axes>"
      ]
     },
     "metadata": {
      "needs_background": "light"
     },
     "output_type": "display_data"
    }
   ],
   "source": [
    "plt.figure(figsize=(12,8))\n",
    "bitcoin['Close']['2020'].plot()\n",
    "bitcoin['Close']['2020'].resample('W').mean().plot(label='moyenne par semaine',lw=5,ls='--',alpha=0.5)\n",
    "bitcoin['Close']['2020'].resample('M').mean().plot(label='moyenne par mois',lw=2,ls=':',alpha=0.8)\n",
    "plt.legend();"
   ]
  },
  {
   "cell_type": "markdown",
   "id": "0e25ac27",
   "metadata": {},
   "source": [
    "# Rolling"
   ]
  },
  {
   "cell_type": "code",
   "execution_count": 6,
   "id": "11cfa355",
   "metadata": {
    "ExecuteTime": {
     "end_time": "2021-11-18T21:35:12.404754Z",
     "start_time": "2021-11-18T21:35:11.846253Z"
    }
   },
   "outputs": [
    {
     "name": "stdout",
     "output_type": "stream",
     "text": [
      "(770, 6)\n"
     ]
    },
    {
     "data": {
      "text/html": [
       "<div>\n",
       "<style scoped>\n",
       "    .dataframe tbody tr th:only-of-type {\n",
       "        vertical-align: middle;\n",
       "    }\n",
       "\n",
       "    .dataframe tbody tr th {\n",
       "        vertical-align: top;\n",
       "    }\n",
       "\n",
       "    .dataframe thead th {\n",
       "        text-align: right;\n",
       "    }\n",
       "</style>\n",
       "<table border=\"1\" class=\"dataframe\">\n",
       "  <thead>\n",
       "    <tr style=\"text-align: right;\">\n",
       "      <th></th>\n",
       "      <th>mean</th>\n",
       "      <th>std</th>\n",
       "      <th>min</th>\n",
       "      <th>max</th>\n",
       "    </tr>\n",
       "    <tr>\n",
       "      <th>Date</th>\n",
       "      <th></th>\n",
       "      <th></th>\n",
       "      <th></th>\n",
       "      <th></th>\n",
       "    </tr>\n",
       "  </thead>\n",
       "  <tbody>\n",
       "    <tr>\n",
       "      <th>2020-01-05</th>\n",
       "      <td>6506.759375</td>\n",
       "      <td>168.691930</td>\n",
       "      <td>6252.938477</td>\n",
       "      <td>6640.674316</td>\n",
       "    </tr>\n",
       "    <tr>\n",
       "      <th>2020-01-12</th>\n",
       "      <td>7223.390276</td>\n",
       "      <td>155.490263</td>\n",
       "      <td>6939.714844</td>\n",
       "      <td>7369.640137</td>\n",
       "    </tr>\n",
       "    <tr>\n",
       "      <th>2020-01-19</th>\n",
       "      <td>7848.336984</td>\n",
       "      <td>252.597230</td>\n",
       "      <td>7313.747070</td>\n",
       "      <td>8063.265625</td>\n",
       "    </tr>\n",
       "    <tr>\n",
       "      <th>2020-01-26</th>\n",
       "      <td>7737.987932</td>\n",
       "      <td>118.117323</td>\n",
       "      <td>7589.612793</td>\n",
       "      <td>7889.409180</td>\n",
       "    </tr>\n",
       "    <tr>\n",
       "      <th>2020-02-02</th>\n",
       "      <td>8425.291225</td>\n",
       "      <td>163.802258</td>\n",
       "      <td>8085.500488</td>\n",
       "      <td>8621.291016</td>\n",
       "    </tr>\n",
       "  </tbody>\n",
       "</table>\n",
       "</div>"
      ],
      "text/plain": [
       "                   mean         std          min          max\n",
       "Date                                                         \n",
       "2020-01-05  6506.759375  168.691930  6252.938477  6640.674316\n",
       "2020-01-12  7223.390276  155.490263  6939.714844  7369.640137\n",
       "2020-01-19  7848.336984  252.597230  7313.747070  8063.265625\n",
       "2020-01-26  7737.987932  118.117323  7589.612793  7889.409180\n",
       "2020-02-02  8425.291225  163.802258  8085.500488  8621.291016"
      ]
     },
     "execution_count": 6,
     "metadata": {},
     "output_type": "execute_result"
    },
    {
     "data": {
      "image/png": "[encoded data removed]",
      "text/plain": [
       "<Figure size 864x576 with 1 Axes>"
      ]
     },
     "metadata": {
      "needs_background": "light"
     },
     "output_type": "display_data"
    }
   ],
   "source": [
    "m=bitcoin['Close']['2020'].resample('W').agg(['mean','std','min','max'])\n",
    "\n",
    "plt.figure(figsize=(12,8))\n",
    "bitcoin['Close']['2020'].rolling(window=7,center=True).mean().plot(label='moyenne par semaine',lw=5,ls='--',alpha=0.5)\n",
    "bitcoin['Close']['2020'].rolling(window=7,center=False).mean().plot(label='moyenne par semaine',lw=2,ls='--',alpha=0.5)\n",
    "m['mean'].plot(label='moyenne de la semaine')\n",
    "plt.fill_between(m.index,m['max'],m['min'],alpha=0.2,label='min-max par semaine')\n",
    "\n",
    "print(bitcoin.shape)\n",
    "bitcoin['Close']['2020'].resample('W').agg(['mean','std','min','max']).head()"
   ]
  },
  {
   "cell_type": "code",
   "execution_count": 7,
   "id": "00b6697c",
   "metadata": {
    "ExecuteTime": {
     "end_time": "2021-11-18T21:35:12.795723Z",
     "start_time": "2021-11-18T21:35:12.406749Z"
    },
    "scrolled": true
   },
   "outputs": [
    {
     "data": {
      "text/plain": [
       "<AxesSubplot:xlabel='Date'>"
      ]
     },
     "execution_count": 7,
     "metadata": {},
     "output_type": "execute_result"
    },
    {
     "data": {
      "image/png": "[encoded data removed]",
      "text/plain": [
       "<Figure size 864x576 with 1 Axes>"
      ]
     },
     "metadata": {
      "needs_background": "light"
     },
     "output_type": "display_data"
    }
   ],
   "source": [
    "plt.figure(figsize=(12,8))\n",
    "m['mean']['2020'].plot(label='moyenne de la semaine')\n",
    "bitcoin['Close']['2020'].rolling(window=7,center=True).mean().plot(label='moyenne par semaine',lw=5,ls='--',alpha=0.5)\n",
    "bitcoin['Close']['2020'].ewm(alpha=0.9).mean().plot(label='moyenne par semaine',lw=2,ls=':',alpha=0.5)\n"
   ]
  },
  {
   "cell_type": "markdown",
   "id": "d5d6fee9",
   "metadata": {},
   "source": [
    "# <a class=\"anchor\" id=\"section_2\"></a> indicateur"
   ]
  },
  {
   "cell_type": "code",
   "execution_count": null,
   "id": "5cd7e02c",
   "metadata": {},
   "outputs": [],
   "source": []
  },
  {
   "cell_type": "code",
   "execution_count": 8,
   "id": "45eedbd0",
   "metadata": {
    "ExecuteTime": {
     "end_time": "2021-11-18T21:35:13.467919Z",
     "start_time": "2021-11-18T21:35:12.797717Z"
    },
    "scrolled": true
   },
   "outputs": [
    {
     "data": {
      "text/html": [
       "<div>\n",
       "<style scoped>\n",
       "    .dataframe tbody tr th:only-of-type {\n",
       "        vertical-align: middle;\n",
       "    }\n",
       "\n",
       "    .dataframe tbody tr th {\n",
       "        vertical-align: top;\n",
       "    }\n",
       "\n",
       "    .dataframe thead th {\n",
       "        text-align: right;\n",
       "    }\n",
       "</style>\n",
       "<table border=\"1\" class=\"dataframe\">\n",
       "  <thead>\n",
       "    <tr style=\"text-align: right;\">\n",
       "      <th></th>\n",
       "      <th>Open</th>\n",
       "      <th>High</th>\n",
       "      <th>Low</th>\n",
       "      <th>Close</th>\n",
       "      <th>Adj Close</th>\n",
       "      <th>Volume</th>\n",
       "      <th>day3</th>\n",
       "      <th>VarianceHigh</th>\n",
       "      <th>VarianceLow</th>\n",
       "      <th>RollingMax</th>\n",
       "      <th>RollingMin</th>\n",
       "      <th>SMA</th>\n",
       "      <th>RSI</th>\n",
       "      <th>STOCH_RSI</th>\n",
       "      <th>STOCH_RSI_D</th>\n",
       "      <th>STOCH_RSI_K</th>\n",
       "      <th>CHOP</th>\n",
       "    </tr>\n",
       "    <tr>\n",
       "      <th>Date</th>\n",
       "      <th></th>\n",
       "      <th></th>\n",
       "      <th></th>\n",
       "      <th></th>\n",
       "      <th></th>\n",
       "      <th></th>\n",
       "      <th></th>\n",
       "      <th></th>\n",
       "      <th></th>\n",
       "      <th></th>\n",
       "      <th></th>\n",
       "      <th></th>\n",
       "      <th></th>\n",
       "      <th></th>\n",
       "      <th></th>\n",
       "      <th></th>\n",
       "      <th></th>\n",
       "    </tr>\n",
       "  </thead>\n",
       "  <tbody>\n",
       "    <tr>\n",
       "      <th>2019-09-18</th>\n",
       "      <td>9253.401367</td>\n",
       "      <td>9316.917969</td>\n",
       "      <td>9240.340820</td>\n",
       "      <td>9246.486328</td>\n",
       "      <td>9246.486328</td>\n",
       "      <td>1.466026e+10</td>\n",
       "      <td>-1.185211</td>\n",
       "      <td>70.431641</td>\n",
       "      <td>6.145508</td>\n",
       "      <td>NaN</td>\n",
       "      <td>NaN</td>\n",
       "      <td>NaN</td>\n",
       "      <td>NaN</td>\n",
       "      <td>NaN</td>\n",
       "      <td>NaN</td>\n",
       "      <td>NaN</td>\n",
       "      <td>NaN</td>\n",
       "    </tr>\n",
       "    <tr>\n",
       "      <th>2019-09-19</th>\n",
       "      <td>9248.524414</td>\n",
       "      <td>9319.454102</td>\n",
       "      <td>8917.574219</td>\n",
       "      <td>9292.973633</td>\n",
       "      <td>9292.973633</td>\n",
       "      <td>1.804724e+10</td>\n",
       "      <td>-1.183431</td>\n",
       "      <td>26.480469</td>\n",
       "      <td>375.399414</td>\n",
       "      <td>NaN</td>\n",
       "      <td>NaN</td>\n",
       "      <td>NaN</td>\n",
       "      <td>NaN</td>\n",
       "      <td>NaN</td>\n",
       "      <td>NaN</td>\n",
       "      <td>NaN</td>\n",
       "      <td>NaN</td>\n",
       "    </tr>\n",
       "    <tr>\n",
       "      <th>2019-09-20</th>\n",
       "      <td>9292.886719</td>\n",
       "      <td>9334.069336</td>\n",
       "      <td>9194.604492</td>\n",
       "      <td>9239.483398</td>\n",
       "      <td>9239.483398</td>\n",
       "      <td>1.337076e+10</td>\n",
       "      <td>-1.615015</td>\n",
       "      <td>94.585938</td>\n",
       "      <td>44.878906</td>\n",
       "      <td>NaN</td>\n",
       "      <td>NaN</td>\n",
       "      <td>NaN</td>\n",
       "      <td>NaN</td>\n",
       "      <td>NaN</td>\n",
       "      <td>NaN</td>\n",
       "      <td>NaN</td>\n",
       "      <td>NaN</td>\n",
       "    </tr>\n",
       "    <tr>\n",
       "      <th>2019-09-21</th>\n",
       "      <td>9241.304688</td>\n",
       "      <td>9245.341797</td>\n",
       "      <td>9075.292969</td>\n",
       "      <td>9092.541992</td>\n",
       "      <td>9092.541992</td>\n",
       "      <td>1.218296e+10</td>\n",
       "      <td>-2.405481</td>\n",
       "      <td>152.799805</td>\n",
       "      <td>17.249023</td>\n",
       "      <td>NaN</td>\n",
       "      <td>NaN</td>\n",
       "      <td>NaN</td>\n",
       "      <td>NaN</td>\n",
       "      <td>NaN</td>\n",
       "      <td>NaN</td>\n",
       "      <td>NaN</td>\n",
       "      <td>NaN</td>\n",
       "    </tr>\n",
       "    <tr>\n",
       "      <th>2019-09-22</th>\n",
       "      <td>9096.534180</td>\n",
       "      <td>9142.628906</td>\n",
       "      <td>9004.768555</td>\n",
       "      <td>9138.951172</td>\n",
       "      <td>9138.951172</td>\n",
       "      <td>1.197878e+10</td>\n",
       "      <td>-2.477816</td>\n",
       "      <td>3.677734</td>\n",
       "      <td>134.182617</td>\n",
       "      <td>NaN</td>\n",
       "      <td>NaN</td>\n",
       "      <td>NaN</td>\n",
       "      <td>NaN</td>\n",
       "      <td>NaN</td>\n",
       "      <td>NaN</td>\n",
       "      <td>NaN</td>\n",
       "      <td>NaN</td>\n",
       "    </tr>\n",
       "    <tr>\n",
       "      <th>...</th>\n",
       "      <td>...</td>\n",
       "      <td>...</td>\n",
       "      <td>...</td>\n",
       "      <td>...</td>\n",
       "      <td>...</td>\n",
       "      <td>...</td>\n",
       "      <td>...</td>\n",
       "      <td>...</td>\n",
       "      <td>...</td>\n",
       "      <td>...</td>\n",
       "      <td>...</td>\n",
       "      <td>...</td>\n",
       "      <td>...</td>\n",
       "      <td>...</td>\n",
       "      <td>...</td>\n",
       "      <td>...</td>\n",
       "      <td>...</td>\n",
       "    </tr>\n",
       "    <tr>\n",
       "      <th>2021-10-22</th>\n",
       "      <td>53539.585938</td>\n",
       "      <td>54746.941406</td>\n",
       "      <td>51720.335938</td>\n",
       "      <td>52123.003906</td>\n",
       "      <td>52123.003906</td>\n",
       "      <td>3.300750e+10</td>\n",
       "      <td>1.611284</td>\n",
       "      <td>2623.937500</td>\n",
       "      <td>402.667968</td>\n",
       "      <td>56634.0625</td>\n",
       "      <td>35113.835938</td>\n",
       "      <td>52242.068034</td>\n",
       "      <td>61.086482</td>\n",
       "      <td>0.000000</td>\n",
       "      <td>0.653714</td>\n",
       "      <td>0.333333</td>\n",
       "      <td>45.076653</td>\n",
       "    </tr>\n",
       "    <tr>\n",
       "      <th>2021-10-23</th>\n",
       "      <td>52125.031250</td>\n",
       "      <td>53026.136719</td>\n",
       "      <td>51379.496094</td>\n",
       "      <td>52734.601563</td>\n",
       "      <td>52734.601563</td>\n",
       "      <td>2.309100e+10</td>\n",
       "      <td>1.176169</td>\n",
       "      <td>291.535156</td>\n",
       "      <td>1355.105469</td>\n",
       "      <td>56634.0625</td>\n",
       "      <td>35113.835938</td>\n",
       "      <td>52490.288086</td>\n",
       "      <td>62.386431</td>\n",
       "      <td>0.073292</td>\n",
       "      <td>0.341477</td>\n",
       "      <td>0.024431</td>\n",
       "      <td>46.890266</td>\n",
       "    </tr>\n",
       "    <tr>\n",
       "      <th>2021-10-24</th>\n",
       "      <td>52712.890625</td>\n",
       "      <td>52830.964844</td>\n",
       "      <td>51231.187500</td>\n",
       "      <td>52347.996094</td>\n",
       "      <td>52347.996094</td>\n",
       "      <td>2.346837e+10</td>\n",
       "      <td>NaN</td>\n",
       "      <td>482.968750</td>\n",
       "      <td>1116.808594</td>\n",
       "      <td>56634.0625</td>\n",
       "      <td>35113.835938</td>\n",
       "      <td>52802.463867</td>\n",
       "      <td>60.999238</td>\n",
       "      <td>0.000000</td>\n",
       "      <td>0.127398</td>\n",
       "      <td>0.024431</td>\n",
       "      <td>47.250845</td>\n",
       "    </tr>\n",
       "    <tr>\n",
       "      <th>2021-10-25</th>\n",
       "      <td>52316.289063</td>\n",
       "      <td>54906.253906</td>\n",
       "      <td>52119.687500</td>\n",
       "      <td>54303.453125</td>\n",
       "      <td>54303.453125</td>\n",
       "      <td>2.675978e+10</td>\n",
       "      <td>NaN</td>\n",
       "      <td>602.800781</td>\n",
       "      <td>2183.765625</td>\n",
       "      <td>56634.0625</td>\n",
       "      <td>35113.835938</td>\n",
       "      <td>53202.971029</td>\n",
       "      <td>65.212642</td>\n",
       "      <td>0.236390</td>\n",
       "      <td>0.050696</td>\n",
       "      <td>0.103227</td>\n",
       "      <td>47.144005</td>\n",
       "    </tr>\n",
       "    <tr>\n",
       "      <th>2021-10-26</th>\n",
       "      <td>54262.781250</td>\n",
       "      <td>54484.171875</td>\n",
       "      <td>53382.664063</td>\n",
       "      <td>53592.636719</td>\n",
       "      <td>53592.636719</td>\n",
       "      <td>2.763873e+10</td>\n",
       "      <td>NaN</td>\n",
       "      <td>891.535156</td>\n",
       "      <td>209.972656</td>\n",
       "      <td>56634.0625</td>\n",
       "      <td>35113.835938</td>\n",
       "      <td>53547.706706</td>\n",
       "      <td>62.566602</td>\n",
       "      <td>0.087936</td>\n",
       "      <td>0.078589</td>\n",
       "      <td>0.108109</td>\n",
       "      <td>45.539947</td>\n",
       "    </tr>\n",
       "  </tbody>\n",
       "</table>\n",
       "<p>770 rows × 17 columns</p>\n",
       "</div>"
      ],
      "text/plain": [
       "                    Open          High           Low         Close  \\\n",
       "Date                                                                 \n",
       "2019-09-18   9253.401367   9316.917969   9240.340820   9246.486328   \n",
       "2019-09-19   9248.524414   9319.454102   8917.574219   9292.973633   \n",
       "2019-09-20   9292.886719   9334.069336   9194.604492   9239.483398   \n",
       "2019-09-21   9241.304688   9245.341797   9075.292969   9092.541992   \n",
       "2019-09-22   9096.534180   9142.628906   9004.768555   9138.951172   \n",
       "...                  ...           ...           ...           ...   \n",
       "2021-10-22  53539.585938  54746.941406  51720.335938  52123.003906   \n",
       "2021-10-23  52125.031250  53026.136719  51379.496094  52734.601563   \n",
       "2021-10-24  52712.890625  52830.964844  51231.187500  52347.996094   \n",
       "2021-10-25  52316.289063  54906.253906  52119.687500  54303.453125   \n",
       "2021-10-26  54262.781250  54484.171875  53382.664063  53592.636719   \n",
       "\n",
       "               Adj Close        Volume      day3  VarianceHigh  VarianceLow  \\\n",
       "Date                                                                          \n",
       "2019-09-18   9246.486328  1.466026e+10 -1.185211     70.431641     6.145508   \n",
       "2019-09-19   9292.973633  1.804724e+10 -1.183431     26.480469   375.399414   \n",
       "2019-09-20   9239.483398  1.337076e+10 -1.615015     94.585938    44.878906   \n",
       "2019-09-21   9092.541992  1.218296e+10 -2.405481    152.799805    17.249023   \n",
       "2019-09-22   9138.951172  1.197878e+10 -2.477816      3.677734   134.182617   \n",
       "...                  ...           ...       ...           ...          ...   \n",
       "2021-10-22  52123.003906  3.300750e+10  1.611284   2623.937500   402.667968   \n",
       "2021-10-23  52734.601563  2.309100e+10  1.176169    291.535156  1355.105469   \n",
       "2021-10-24  52347.996094  2.346837e+10       NaN    482.968750  1116.808594   \n",
       "2021-10-25  54303.453125  2.675978e+10       NaN    602.800781  2183.765625   \n",
       "2021-10-26  53592.636719  2.763873e+10       NaN    891.535156   209.972656   \n",
       "\n",
       "            RollingMax    RollingMin           SMA        RSI  STOCH_RSI  \\\n",
       "Date                                                                       \n",
       "2019-09-18         NaN           NaN           NaN        NaN        NaN   \n",
       "2019-09-19         NaN           NaN           NaN        NaN        NaN   \n",
       "2019-09-20         NaN           NaN           NaN        NaN        NaN   \n",
       "2019-09-21         NaN           NaN           NaN        NaN        NaN   \n",
       "2019-09-22         NaN           NaN           NaN        NaN        NaN   \n",
       "...                ...           ...           ...        ...        ...   \n",
       "2021-10-22  56634.0625  35113.835938  52242.068034  61.086482   0.000000   \n",
       "2021-10-23  56634.0625  35113.835938  52490.288086  62.386431   0.073292   \n",
       "2021-10-24  56634.0625  35113.835938  52802.463867  60.999238   0.000000   \n",
       "2021-10-25  56634.0625  35113.835938  53202.971029  65.212642   0.236390   \n",
       "2021-10-26  56634.0625  35113.835938  53547.706706  62.566602   0.087936   \n",
       "\n",
       "            STOCH_RSI_D  STOCH_RSI_K       CHOP  \n",
       "Date                                             \n",
       "2019-09-18          NaN          NaN        NaN  \n",
       "2019-09-19          NaN          NaN        NaN  \n",
       "2019-09-20          NaN          NaN        NaN  \n",
       "2019-09-21          NaN          NaN        NaN  \n",
       "2019-09-22          NaN          NaN        NaN  \n",
       "...                 ...          ...        ...  \n",
       "2021-10-22     0.653714     0.333333  45.076653  \n",
       "2021-10-23     0.341477     0.024431  46.890266  \n",
       "2021-10-24     0.127398     0.024431  47.250845  \n",
       "2021-10-25     0.050696     0.103227  47.144005  \n",
       "2021-10-26     0.078589     0.108109  45.539947  \n",
       "\n",
       "[770 rows x 17 columns]"
      ]
     },
     "execution_count": 8,
     "metadata": {},
     "output_type": "execute_result"
    }
   ],
   "source": [
    "data=bitcoin.copy()\n",
    "#valeur à prédire\n",
    "def plus_3(data):\n",
    "    from scipy.special import cbrt #racine cubique 3\n",
    "    data['day3']=np.nan\n",
    "    for i, date in enumerate(data[:-3].index) :\n",
    "        data['day3'][i] = cbrt((data.iloc[i+3]['Close']/data.iloc[i]['Close']-1)*100)\n",
    "    return data\n",
    "def plus_x(data,x=3):\n",
    "    from scipy.special import cbrt #racine cubique 3\n",
    "    data['day3']=np.nan\n",
    "    for i, date in enumerate(data[:-x].index) :\n",
    "        data['day3'][i] = cbrt((data.iloc[i+x]['Close']/data.iloc[i]['Close']-1)*100)\n",
    "    return data\n",
    "data=plus_3(data)\n",
    "\n",
    "#indicateur\n",
    "def indicator(data):\n",
    "    data['VarianceHigh']  = (data['High']-data['Close'])\n",
    "    data['VarianceLow']   = (data['Close']-data['Low'])\n",
    "    data['RollingMax']    = data['Close'].shift(1).rolling(window=28).max()\n",
    "    data['RollingMin']    = data['Close'].shift(1).rolling(window=28).min()\n",
    "    data['SMA']=ta.trend.sma_indicator(data['Close'], window=12)\n",
    "\n",
    "    #Relative Strength Index (RSI)\n",
    "    data['RSI'] =ta.momentum.rsi(close=data['Close'], window=14)\n",
    "\n",
    "    # #Average True Range (ATR) trop de NAN\n",
    "    #data['ATR'] = ta.volatility.average_true_range(high=data['High'], low=data['Low'], close=data['Close'], window=14)\n",
    "\n",
    "    # #Stochastic RSI\n",
    "    data['STOCH_RSI'] = ta.momentum.stochrsi(close=data['Close'], window=14, smooth1=3, smooth2=3) #Non moyenné \n",
    "    data['STOCH_RSI_D'] = ta.momentum.stochrsi_d(close=data['Close'], window=14, smooth1=3, smooth2=3) #Orange sur TradingView\n",
    "    data['STOCH_RSI_K'] =ta.momentum.stochrsi_k(close=data['Close'], window=14, smooth1=3, smooth2=3) #Bleu sur TradingView\n",
    "\n",
    "    # #Choppiness index\n",
    "    data['CHOP'] = get_chop(high=data['High'], low=data['Low'], close=data['Close'], window=14)  \n",
    "    \n",
    "    \n",
    "    return data\n",
    "indicator(data)"
   ]
  },
  {
   "cell_type": "code",
   "execution_count": 9,
   "id": "d2b90898",
   "metadata": {
    "ExecuteTime": {
     "end_time": "2021-11-18T21:35:13.483879Z",
     "start_time": "2021-11-18T21:35:13.468917Z"
    }
   },
   "outputs": [
    {
     "data": {
      "text/plain": [
       "46"
      ]
     },
     "execution_count": 9,
     "metadata": {},
     "output_type": "execute_result"
    }
   ],
   "source": [
    "data['CHOP'].isna().sum()"
   ]
  },
  {
   "cell_type": "code",
   "execution_count": 10,
   "id": "9ed76262",
   "metadata": {
    "ExecuteTime": {
     "end_time": "2021-11-18T21:35:15.088596Z",
     "start_time": "2021-11-18T21:35:13.484875Z"
    }
   },
   "outputs": [
    {
     "data": {
      "image/png": "[encoded data removed]",
      "text/plain": [
       "<Figure size 864x864 with 2 Axes>"
      ]
     },
     "metadata": {
      "needs_background": "light"
     },
     "output_type": "display_data"
    }
   ],
   "source": [
    "corr = data.corr()\n",
    "mask = np.zeros_like(corr)\n",
    "mask[np.triu_indices_from(mask)] = True\n",
    "fig, ax = plt.subplots(figsize=(12,12))\n",
    "ax = sns.heatmap(corr, annot=True, fmt=\".2f\", annot_kws={'size':8}, mask=mask, center=0, cmap=\"coolwarm\")\n",
    "plt.title(f\"Heatmap des corrélations linéaires\\n\", fontdict=font_title);\n"
   ]
  },
  {
   "cell_type": "code",
   "execution_count": 11,
   "id": "09b383cf",
   "metadata": {
    "ExecuteTime": {
     "end_time": "2021-11-18T21:35:15.134474Z",
     "start_time": "2021-11-18T21:35:15.089594Z"
    }
   },
   "outputs": [
    {
     "data": {
      "text/html": [
       "<div>\n",
       "<style scoped>\n",
       "    .dataframe tbody tr th:only-of-type {\n",
       "        vertical-align: middle;\n",
       "    }\n",
       "\n",
       "    .dataframe tbody tr th {\n",
       "        vertical-align: top;\n",
       "    }\n",
       "\n",
       "    .dataframe thead th {\n",
       "        text-align: right;\n",
       "    }\n",
       "</style>\n",
       "<table border=\"1\" class=\"dataframe\">\n",
       "  <thead>\n",
       "    <tr style=\"text-align: right;\">\n",
       "      <th></th>\n",
       "      <th>High</th>\n",
       "      <th>Low</th>\n",
       "      <th>Close</th>\n",
       "      <th>Volume</th>\n",
       "      <th>day3</th>\n",
       "      <th>VarianceHigh</th>\n",
       "      <th>VarianceLow</th>\n",
       "      <th>RollingMax</th>\n",
       "      <th>RollingMin</th>\n",
       "      <th>SMA</th>\n",
       "      <th>RSI</th>\n",
       "      <th>STOCH_RSI</th>\n",
       "      <th>STOCH_RSI_D</th>\n",
       "      <th>STOCH_RSI_K</th>\n",
       "      <th>CHOP</th>\n",
       "    </tr>\n",
       "    <tr>\n",
       "      <th>Date</th>\n",
       "      <th></th>\n",
       "      <th></th>\n",
       "      <th></th>\n",
       "      <th></th>\n",
       "      <th></th>\n",
       "      <th></th>\n",
       "      <th></th>\n",
       "      <th></th>\n",
       "      <th></th>\n",
       "      <th></th>\n",
       "      <th></th>\n",
       "      <th></th>\n",
       "      <th></th>\n",
       "      <th></th>\n",
       "      <th></th>\n",
       "    </tr>\n",
       "  </thead>\n",
       "  <tbody>\n",
       "    <tr>\n",
       "      <th>2019-10-18</th>\n",
       "      <td>7286.020508</td>\n",
       "      <td>7074.515137</td>\n",
       "      <td>7138.117676</td>\n",
       "      <td>1.401229e+10</td>\n",
       "      <td>1.527006</td>\n",
       "      <td>147.902832</td>\n",
       "      <td>63.602539</td>\n",
       "      <td>9239.483398</td>\n",
       "      <td>7266.731445</td>\n",
       "      <td>7500.346476</td>\n",
       "      <td>28.490892</td>\n",
       "      <td>0.444136</td>\n",
       "      <td>0.592715</td>\n",
       "      <td>0.511988</td>\n",
       "      <td>47.174923</td>\n",
       "    </tr>\n",
       "    <tr>\n",
       "      <th>2019-10-19</th>\n",
       "      <td>7236.079102</td>\n",
       "      <td>7112.665039</td>\n",
       "      <td>7151.862793</td>\n",
       "      <td>1.235268e+10</td>\n",
       "      <td>1.144302</td>\n",
       "      <td>84.216309</td>\n",
       "      <td>39.197754</td>\n",
       "      <td>9138.951172</td>\n",
       "      <td>7138.117676</td>\n",
       "      <td>7470.084107</td>\n",
       "      <td>29.175343</td>\n",
       "      <td>0.470951</td>\n",
       "      <td>0.530898</td>\n",
       "      <td>0.492321</td>\n",
       "      <td>47.067634</td>\n",
       "    </tr>\n",
       "    <tr>\n",
       "      <th>2019-10-20</th>\n",
       "      <td>7423.996094</td>\n",
       "      <td>7126.044434</td>\n",
       "      <td>7370.443848</td>\n",
       "      <td>1.389833e+10</td>\n",
       "      <td>-2.033971</td>\n",
       "      <td>53.552246</td>\n",
       "      <td>244.399414</td>\n",
       "      <td>9138.951172</td>\n",
       "      <td>7138.117676</td>\n",
       "      <td>7458.591675</td>\n",
       "      <td>39.149855</td>\n",
       "      <td>0.751225</td>\n",
       "      <td>0.519915</td>\n",
       "      <td>0.555437</td>\n",
       "      <td>48.542047</td>\n",
       "    </tr>\n",
       "    <tr>\n",
       "      <th>2019-10-21</th>\n",
       "      <td>7439.778320</td>\n",
       "      <td>7349.857910</td>\n",
       "      <td>7392.276855</td>\n",
       "      <td>1.422976e+10</td>\n",
       "      <td>-2.057272</td>\n",
       "      <td>47.501465</td>\n",
       "      <td>42.418945</td>\n",
       "      <td>8850.279297</td>\n",
       "      <td>7138.117676</td>\n",
       "      <td>7422.608521</td>\n",
       "      <td>40.057936</td>\n",
       "      <td>0.815225</td>\n",
       "      <td>0.575631</td>\n",
       "      <td>0.679133</td>\n",
       "      <td>44.837913</td>\n",
       "    </tr>\n",
       "    <tr>\n",
       "      <th>2019-10-22</th>\n",
       "      <td>7455.320801</td>\n",
       "      <td>7255.664063</td>\n",
       "      <td>7259.024902</td>\n",
       "      <td>1.509941e+10</td>\n",
       "      <td>1.972763</td>\n",
       "      <td>196.295899</td>\n",
       "      <td>3.360839</td>\n",
       "      <td>7826.957031</td>\n",
       "      <td>7138.117676</td>\n",
       "      <td>7377.675049</td>\n",
       "      <td>36.479775</td>\n",
       "      <td>0.563042</td>\n",
       "      <td>0.648134</td>\n",
       "      <td>0.709831</td>\n",
       "      <td>45.747740</td>\n",
       "    </tr>\n",
       "    <tr>\n",
       "      <th>...</th>\n",
       "      <td>...</td>\n",
       "      <td>...</td>\n",
       "      <td>...</td>\n",
       "      <td>...</td>\n",
       "      <td>...</td>\n",
       "      <td>...</td>\n",
       "      <td>...</td>\n",
       "      <td>...</td>\n",
       "      <td>...</td>\n",
       "      <td>...</td>\n",
       "      <td>...</td>\n",
       "      <td>...</td>\n",
       "      <td>...</td>\n",
       "      <td>...</td>\n",
       "      <td>...</td>\n",
       "    </tr>\n",
       "    <tr>\n",
       "      <th>2021-10-19</th>\n",
       "      <td>55387.925781</td>\n",
       "      <td>52881.781250</td>\n",
       "      <td>55238.773438</td>\n",
       "      <td>3.478851e+10</td>\n",
       "      <td>-1.780084</td>\n",
       "      <td>149.152343</td>\n",
       "      <td>2356.992188</td>\n",
       "      <td>53408.671875</td>\n",
       "      <td>34712.968750</td>\n",
       "      <td>50512.179362</td>\n",
       "      <td>76.945152</td>\n",
       "      <td>1.000000</td>\n",
       "      <td>0.900842</td>\n",
       "      <td>0.923102</td>\n",
       "      <td>41.047926</td>\n",
       "    </tr>\n",
       "    <tr>\n",
       "      <th>2021-10-20</th>\n",
       "      <td>57457.261719</td>\n",
       "      <td>54619.558594</td>\n",
       "      <td>56634.062500</td>\n",
       "      <td>3.500447e+10</td>\n",
       "      <td>-1.902431</td>\n",
       "      <td>823.199219</td>\n",
       "      <td>2014.503906</td>\n",
       "      <td>55238.773438</td>\n",
       "      <td>35113.835938</td>\n",
       "      <td>51344.295248</td>\n",
       "      <td>78.823158</td>\n",
       "      <td>1.000000</td>\n",
       "      <td>0.918176</td>\n",
       "      <td>0.961143</td>\n",
       "      <td>41.002765</td>\n",
       "    </tr>\n",
       "    <tr>\n",
       "      <th>2021-10-21</th>\n",
       "      <td>57214.132813</td>\n",
       "      <td>53432.027344</td>\n",
       "      <td>53515.742188</td>\n",
       "      <td>3.949205e+10</td>\n",
       "      <td>-1.297047</td>\n",
       "      <td>3698.390625</td>\n",
       "      <td>83.714844</td>\n",
       "      <td>56634.062500</td>\n",
       "      <td>35113.835938</td>\n",
       "      <td>51844.918294</td>\n",
       "      <td>65.902672</td>\n",
       "      <td>0.000000</td>\n",
       "      <td>0.850304</td>\n",
       "      <td>0.666667</td>\n",
       "      <td>43.909197</td>\n",
       "    </tr>\n",
       "    <tr>\n",
       "      <th>2021-10-22</th>\n",
       "      <td>54746.941406</td>\n",
       "      <td>51720.335938</td>\n",
       "      <td>52123.003906</td>\n",
       "      <td>3.300750e+10</td>\n",
       "      <td>1.611284</td>\n",
       "      <td>2623.937500</td>\n",
       "      <td>402.667968</td>\n",
       "      <td>56634.062500</td>\n",
       "      <td>35113.835938</td>\n",
       "      <td>52242.068034</td>\n",
       "      <td>61.086482</td>\n",
       "      <td>0.000000</td>\n",
       "      <td>0.653714</td>\n",
       "      <td>0.333333</td>\n",
       "      <td>45.076653</td>\n",
       "    </tr>\n",
       "    <tr>\n",
       "      <th>2021-10-23</th>\n",
       "      <td>53026.136719</td>\n",
       "      <td>51379.496094</td>\n",
       "      <td>52734.601563</td>\n",
       "      <td>2.309100e+10</td>\n",
       "      <td>1.176169</td>\n",
       "      <td>291.535156</td>\n",
       "      <td>1355.105469</td>\n",
       "      <td>56634.062500</td>\n",
       "      <td>35113.835938</td>\n",
       "      <td>52490.288086</td>\n",
       "      <td>62.386431</td>\n",
       "      <td>0.073292</td>\n",
       "      <td>0.341477</td>\n",
       "      <td>0.024431</td>\n",
       "      <td>46.890266</td>\n",
       "    </tr>\n",
       "  </tbody>\n",
       "</table>\n",
       "<p>673 rows × 15 columns</p>\n",
       "</div>"
      ],
      "text/plain": [
       "                    High           Low         Close        Volume      day3  \\\n",
       "Date                                                                           \n",
       "2019-10-18   7286.020508   7074.515137   7138.117676  1.401229e+10  1.527006   \n",
       "2019-10-19   7236.079102   7112.665039   7151.862793  1.235268e+10  1.144302   \n",
       "2019-10-20   7423.996094   7126.044434   7370.443848  1.389833e+10 -2.033971   \n",
       "2019-10-21   7439.778320   7349.857910   7392.276855  1.422976e+10 -2.057272   \n",
       "2019-10-22   7455.320801   7255.664063   7259.024902  1.509941e+10  1.972763   \n",
       "...                  ...           ...           ...           ...       ...   \n",
       "2021-10-19  55387.925781  52881.781250  55238.773438  3.478851e+10 -1.780084   \n",
       "2021-10-20  57457.261719  54619.558594  56634.062500  3.500447e+10 -1.902431   \n",
       "2021-10-21  57214.132813  53432.027344  53515.742188  3.949205e+10 -1.297047   \n",
       "2021-10-22  54746.941406  51720.335938  52123.003906  3.300750e+10  1.611284   \n",
       "2021-10-23  53026.136719  51379.496094  52734.601563  2.309100e+10  1.176169   \n",
       "\n",
       "            VarianceHigh  VarianceLow    RollingMax    RollingMin  \\\n",
       "Date                                                                \n",
       "2019-10-18    147.902832    63.602539   9239.483398   7266.731445   \n",
       "2019-10-19     84.216309    39.197754   9138.951172   7138.117676   \n",
       "2019-10-20     53.552246   244.399414   9138.951172   7138.117676   \n",
       "2019-10-21     47.501465    42.418945   8850.279297   7138.117676   \n",
       "2019-10-22    196.295899     3.360839   7826.957031   7138.117676   \n",
       "...                  ...          ...           ...           ...   \n",
       "2021-10-19    149.152343  2356.992188  53408.671875  34712.968750   \n",
       "2021-10-20    823.199219  2014.503906  55238.773438  35113.835938   \n",
       "2021-10-21   3698.390625    83.714844  56634.062500  35113.835938   \n",
       "2021-10-22   2623.937500   402.667968  56634.062500  35113.835938   \n",
       "2021-10-23    291.535156  1355.105469  56634.062500  35113.835938   \n",
       "\n",
       "                     SMA        RSI  STOCH_RSI  STOCH_RSI_D  STOCH_RSI_K  \\\n",
       "Date                                                                       \n",
       "2019-10-18   7500.346476  28.490892   0.444136     0.592715     0.511988   \n",
       "2019-10-19   7470.084107  29.175343   0.470951     0.530898     0.492321   \n",
       "2019-10-20   7458.591675  39.149855   0.751225     0.519915     0.555437   \n",
       "2019-10-21   7422.608521  40.057936   0.815225     0.575631     0.679133   \n",
       "2019-10-22   7377.675049  36.479775   0.563042     0.648134     0.709831   \n",
       "...                  ...        ...        ...          ...          ...   \n",
       "2021-10-19  50512.179362  76.945152   1.000000     0.900842     0.923102   \n",
       "2021-10-20  51344.295248  78.823158   1.000000     0.918176     0.961143   \n",
       "2021-10-21  51844.918294  65.902672   0.000000     0.850304     0.666667   \n",
       "2021-10-22  52242.068034  61.086482   0.000000     0.653714     0.333333   \n",
       "2021-10-23  52490.288086  62.386431   0.073292     0.341477     0.024431   \n",
       "\n",
       "                 CHOP  \n",
       "Date                   \n",
       "2019-10-18  47.174923  \n",
       "2019-10-19  47.067634  \n",
       "2019-10-20  48.542047  \n",
       "2019-10-21  44.837913  \n",
       "2019-10-22  45.747740  \n",
       "...               ...  \n",
       "2021-10-19  41.047926  \n",
       "2021-10-20  41.002765  \n",
       "2021-10-21  43.909197  \n",
       "2021-10-22  45.076653  \n",
       "2021-10-23  46.890266  \n",
       "\n",
       "[673 rows x 15 columns]"
      ]
     },
     "execution_count": 11,
     "metadata": {},
     "output_type": "execute_result"
    }
   ],
   "source": [
    "data_t=data[28:].drop(['Open','Adj Close'],axis=1).copy()\n",
    "data_t=data_t.dropna(axis=0)\n",
    "data_t"
   ]
  },
  {
   "cell_type": "code",
   "execution_count": 12,
   "id": "d6b91dd0",
   "metadata": {
    "ExecuteTime": {
     "end_time": "2021-11-18T21:35:15.293049Z",
     "start_time": "2021-11-18T21:35:15.136469Z"
    }
   },
   "outputs": [
    {
     "name": "stdout",
     "output_type": "stream",
     "text": [
      "Entrainement: 430 lignes,\n",
      "Valide: 108 lignes,\n",
      "Test: 135 lignes.\n"
     ]
    },
    {
     "data": {
      "text/plain": [
       "(430, 14)"
      ]
     },
     "execution_count": 12,
     "metadata": {},
     "output_type": "execute_result"
    }
   ],
   "source": [
    "from sklearn.model_selection import train_test_split\n",
    "\n",
    "X = data_t.drop(['day3'], axis=1)\n",
    "Y = data_t['day3'].values\n",
    "    \n",
    "X_train1, X_test, Y_train1, Y_test = train_test_split(X, Y, test_size=0.2, random_state=132)\n",
    "X_train, X_valid, Y_train, Y_valid = train_test_split(X_train1, Y_train1, test_size=0.2, random_state=132)\n",
    "\n",
    "print(\"Entrainement: {} lignes,\\nValide: {} lignes,\\nTest: {} lignes.\".format(X_train.shape[0],X_valid.shape[0],X_test.shape[0]))\n",
    "\n",
    "\n",
    "from sklearn.preprocessing import OneHotEncoder, StandardScaler\n",
    "preprocessor=StandardScaler()\n",
    "preprocessor.fit(X)\n",
    "\n",
    "X_std  = preprocessor.transform(X)\n",
    "X_train_std  = preprocessor.transform(X_train)\n",
    "X_train1_std = preprocessor.transform(X_train1)\n",
    "X_test_std   = preprocessor.transform(X_test)\n",
    "X_valid_std  = preprocessor.transform(X_valid)\n",
    "X_train_std.shape"
   ]
  },
  {
   "cell_type": "code",
   "execution_count": 13,
   "id": "92f3a65e",
   "metadata": {
    "ExecuteTime": {
     "end_time": "2021-11-18T21:35:15.308008Z",
     "start_time": "2021-11-18T21:35:15.294047Z"
    }
   },
   "outputs": [
    {
     "data": {
      "text/plain": [
       "1.0"
      ]
     },
     "execution_count": 13,
     "metadata": {},
     "output_type": "execute_result"
    }
   ],
   "source": [
    "np.array([X_train['Close']*X_train['CHOP']>=0]).mean()\n"
   ]
  },
  {
   "cell_type": "markdown",
   "id": "98ac20dd",
   "metadata": {},
   "source": [
    "# <a class=\"anchor\" id=\"section_3\"></a>prédiction"
   ]
  },
  {
   "cell_type": "code",
   "execution_count": 14,
   "id": "78881316",
   "metadata": {
    "ExecuteTime": {
     "end_time": "2021-11-18T21:35:15.322968Z",
     "start_time": "2021-11-18T21:35:15.310004Z"
    }
   },
   "outputs": [],
   "source": [
    "def custom_metric(y,y_pred) :   \n",
    "    score=[]\n",
    "    for i in range(0,len(y)) :\n",
    "        if y[i]*y_pred[i]>=0 :\n",
    "            return   1 + (abs(y[i])-abs(y_pred[i]-y[i]))\n",
    "        else:\n",
    "            return   -(abs(y_pred[i])+abs(y[i]))*2 \n",
    "    return  np.array(score).mean()"
   ]
  },
  {
   "cell_type": "code",
   "execution_count": 15,
   "id": "15c23917",
   "metadata": {
    "ExecuteTime": {
     "end_time": "2021-11-18T21:35:15.338925Z",
     "start_time": "2021-11-18T21:35:15.323966Z"
    }
   },
   "outputs": [],
   "source": [
    "# do metric\n",
    "def custom_metric_lambda(y,y_pred) :\n",
    "    if y*y_pred>=0 :\n",
    "        return    (abs(y)-abs(y_pred-y))\n",
    "    else:\n",
    "        return   -(abs(y_pred)+abs(y))*2 \n",
    "\n",
    "def custom_metric(y,y_pred) :\n",
    "    df=pd.DataFrame(index=None,columns= ['y','y_pred'] )\n",
    "    df['y']=y\n",
    "    df['y_pred']=y_pred\n",
    "    return  df.apply( lambda x : custom_metric_lambda(x['y'],x['y_pred']),axis=1).mean()\n",
    "\n",
    "def custom_metric_2(y,y_pred) :\n",
    "    return np.array([y*y_pred>=0]).mean()"
   ]
  },
  {
   "cell_type": "code",
   "execution_count": 16,
   "id": "9c996be7",
   "metadata": {
    "ExecuteTime": {
     "end_time": "2021-11-18T21:35:15.353885Z",
     "start_time": "2021-11-18T21:35:15.339923Z"
    }
   },
   "outputs": [],
   "source": [
    "\n",
    "     \n",
    "            \n",
    "from sklearn.metrics import make_scorer\n",
    "\n",
    "custom_score = make_scorer(custom_metric , greater_is_better = True)\n",
    "custom_score_2 = make_scorer(custom_metric_2 , greater_is_better = True)"
   ]
  },
  {
   "cell_type": "code",
   "execution_count": 17,
   "id": "656fa2c0",
   "metadata": {
    "ExecuteTime": {
     "end_time": "2021-11-18T21:35:21.042469Z",
     "start_time": "2021-11-18T21:35:15.354883Z"
    },
    "scrolled": false
   },
   "outputs": [
    {
     "name": "stdout",
     "output_type": "stream",
     "text": [
      "Coefficient de détermination train  :  0.8219105494123546\n",
      "Coefficient de détermination valid  :  0.15522270045763364\n",
      "Coefficient de détermination test  :  0.012410180562429485\n",
      "paramétre  :  {'ccp_alpha': 0.01}\n"
     ]
    },
    {
     "data": {
      "image/png": "[encoded data removed]",
      "text/plain": [
       "<Figure size 576x576 with 1 Axes>"
      ]
     },
     "metadata": {
      "needs_background": "light"
     },
     "output_type": "display_data"
    }
   ],
   "source": [
    "from sklearn.ensemble import RandomForestRegressor\n",
    "from sklearn.metrics import *\n",
    "from sklearn.model_selection import GridSearchCV\n",
    "from sklearn.svm import SVR\n",
    "\n",
    "model = SVR(kernel='rbf',degree=3)\n",
    "params = {'ccp_alpha'   :[1.e-2,1.e-3,1.e-4]}\n",
    "\n",
    "grid = GridSearchCV(RandomForestRegressor( n_jobs=3,random_state=4),\n",
    "                    param_grid=params,cv=5,scoring=custom_score_2)\n",
    "grid.fit(X_train_std, Y_train)\n",
    "#\n",
    "best=grid.best_estimator_\n",
    "\n",
    "\n",
    "print(\"Coefficient de détermination train  : \" , best.score(X_train_std, Y_train))\n",
    "print(\"Coefficient de détermination valid  : \" , best.score(X_valid_std, Y_valid))\n",
    "print(\"Coefficient de détermination test  : \" , best.score(X_test_std, Y_test))\n",
    "\n",
    "print(\"paramétre  : \" , grid.best_params_)\n",
    "\n",
    "\n",
    "\n",
    "\n",
    "\n",
    "# Get Feature importance data using feature_importances_ attribute\n",
    "feature_importance = best.feature_importances_\n",
    "sorted_idx = np.argsort(feature_importance)\n",
    "pos = np.arange(sorted_idx.shape[0]) + .5\n",
    "fig = plt.figure(figsize=(8, 8))\n",
    "plt.barh(pos, feature_importance[sorted_idx], align='center')\n",
    "plt.yticks(pos, np.array(X_train.columns)[sorted_idx],size=15)\n",
    "plt.title('Feature Importance',fontdict=font_title)\n",
    "\n",
    "fig.tight_layout()\n",
    "plt.show()"
   ]
  },
  {
   "cell_type": "code",
   "execution_count": 18,
   "id": "c8ae15bc",
   "metadata": {
    "ExecuteTime": {
     "end_time": "2021-11-18T21:35:25.760895Z",
     "start_time": "2021-11-18T21:35:21.044464Z"
    }
   },
   "outputs": [
    {
     "data": {
      "image/png": "[encoded data removed]",
      "text/plain": [
       "<Figure size 432x288 with 1 Axes>"
      ]
     },
     "metadata": {
      "needs_background": "light"
     },
     "output_type": "display_data"
    }
   ],
   "source": [
    "from sklearn.model_selection import learning_curve\n",
    "\n",
    "N,train_score,val_score=learning_curve(best, X_train_std,Y_train,train_sizes=np.linspace(0.2,1,5),cv=5)\n",
    "\n",
    "plt.subplot(1,2,2)\n",
    "plt.plot(N,val_score.mean(axis=1),'g',label='validation')\n",
    "plt.plot(N,train_score.mean(axis=1),label='train');\n",
    "plt.ylabel(\"pourcentages d'apprentissage\",fontsize=15) \n",
    "plt.xlabel(\"train_sizes\" ,fontsize=15)  \n",
    "plt.title(\"KNN learning_curve\", fontdict=font_title)\n",
    "plt.legend();"
   ]
  },
  {
   "cell_type": "code",
   "execution_count": 19,
   "id": "e3d335b7",
   "metadata": {
    "ExecuteTime": {
     "end_time": "2021-11-18T21:35:25.807770Z",
     "start_time": "2021-11-18T21:35:25.761893Z"
    }
   },
   "outputs": [
    {
     "data": {
      "text/plain": [
       "(673, 18)"
      ]
     },
     "execution_count": 19,
     "metadata": {},
     "output_type": "execute_result"
    }
   ],
   "source": [
    "data_t['day3_predict']=best.predict(X_std)\n",
    "\n",
    "data_t['buy']=np.zeros(len(data_t))\n",
    "data_t['sell']=np.zeros(len(data_t))\n",
    "\n",
    "data_t.loc[data_t['day3_predict'] >1,'buy'] = 1\n",
    "data_t.loc[data_t['day3_predict'] < -1,'sell'] = 1    \n",
    "data_t.shape"
   ]
  },
  {
   "cell_type": "code",
   "execution_count": null,
   "id": "a1436437",
   "metadata": {},
   "outputs": [],
   "source": []
  },
  {
   "cell_type": "markdown",
   "id": "067baa60",
   "metadata": {},
   "source": [
    "# <a class=\"anchor\" id=\"section_4\"></a> évaluation"
   ]
  },
  {
   "cell_type": "code",
   "execution_count": 20,
   "id": "c5afd01d",
   "metadata": {
    "ExecuteTime": {
     "end_time": "2021-11-18T21:35:25.823728Z",
     "start_time": "2021-11-18T21:35:25.808767Z"
    }
   },
   "outputs": [
    {
     "data": {
      "text/plain": [
       "(243, 18)"
      ]
     },
     "execution_count": 20,
     "metadata": {},
     "output_type": "execute_result"
    }
   ],
   "source": [
    "data_t=data_t.loc[X_valid.index.union(X_test.index).values,:]\n",
    "\n",
    "data_t.shape"
   ]
  },
  {
   "cell_type": "code",
   "execution_count": 21,
   "id": "1ad280db",
   "metadata": {
    "ExecuteTime": {
     "end_time": "2021-11-18T21:35:25.870601Z",
     "start_time": "2021-11-18T21:35:25.824729Z"
    }
   },
   "outputs": [
    {
     "name": "stdout",
     "output_type": "stream",
     "text": [
      "0.1516832 btc                                          2019-12-18 00:00:00\n",
      "                      5773.269 $                      2021-02-08 00:00:00\n",
      "0.14506652 btc                                          2021-02-15 00:00:00\n",
      "                      6993.1121 $                      2021-03-18 00:00:00\n",
      "0.23836672 btc                                          2021-07-24 00:00:00\n",
      "                      12568.575 $                      2021-10-15 00:00:00\n"
     ]
    },
    {
     "data": {
      "text/plain": [
       "12568.574911791604"
      ]
     },
     "execution_count": 21,
     "metadata": {},
     "output_type": "execute_result"
    }
   ],
   "source": [
    "\n",
    "def evaluation(data_t):\n",
    "    frais=0.007\n",
    "    btc=0.0\n",
    "    usdt=1000\n",
    "    lastindex=data_t.first_valid_index()\n",
    "\n",
    "    for index,row in data_t.iterrows():\n",
    "        if  data_t['buy'][index] and usdt>10:\n",
    "            btc =usdt/data_t['Close'][index]\n",
    "            btc = btc - (frais*btc)\n",
    "            usdt=0\n",
    "            print(f\"{btc:.8} btc                                         \",index)\n",
    "\n",
    "        if data_t['sell'][index] and btc > 0.0001:\n",
    "            usdt =btc*data_t['Close'][index]\n",
    "            usdt = usdt -(0.007*usdt)\n",
    "            btc=0\n",
    "            print(f\"                      {usdt:.8} $                     \",index)\n",
    "        lastindex=index\n",
    "\n",
    "    return usdt +btc*data_t['Close'].iloc[-1]\n",
    "evaluation(data_t)"
   ]
  },
  {
   "cell_type": "code",
   "execution_count": 22,
   "id": "be3713a2",
   "metadata": {
    "ExecuteTime": {
     "end_time": "2021-11-18T21:35:25.886560Z",
     "start_time": "2021-11-18T21:35:25.872598Z"
    }
   },
   "outputs": [
    {
     "data": {
      "text/plain": [
       "DatetimeIndex(['2019-10-19', '2019-10-21', '2019-10-23', '2019-10-26',\n",
       "               '2019-10-27', '2019-10-29', '2019-11-01', '2019-11-02',\n",
       "               '2019-11-04', '2019-11-10',\n",
       "               ...\n",
       "               '2021-09-22', '2021-09-24', '2021-10-04', '2021-10-05',\n",
       "               '2021-10-08', '2021-10-13', '2021-10-15', '2021-10-19',\n",
       "               '2021-10-20', '2021-10-22'],\n",
       "              dtype='datetime64[ns]', name='Date', length=243, freq=None)"
      ]
     },
     "execution_count": 22,
     "metadata": {},
     "output_type": "execute_result"
    }
   ],
   "source": [
    "X_valid.index.union(X_test.index) "
   ]
  },
  {
   "cell_type": "code",
   "execution_count": 23,
   "id": "4ad1ea14",
   "metadata": {
    "ExecuteTime": {
     "end_time": "2021-11-18T21:35:25.902520Z",
     "start_time": "2021-11-18T21:35:25.890548Z"
    }
   },
   "outputs": [],
   "source": [
    "import seaborn as sns "
   ]
  },
  {
   "cell_type": "code",
   "execution_count": 24,
   "id": "dcce0ee7",
   "metadata": {
    "ExecuteTime": {
     "end_time": "2021-11-18T21:35:30.367266Z",
     "start_time": "2021-11-18T21:35:25.905509Z"
    }
   },
   "outputs": [
    {
     "name": "stdout",
     "output_type": "stream",
     "text": [
      "0.13884495 btc                                          2019-10-19 00:00:00\n",
      "                      1019.1956 $                      2019-10-21 00:00:00\n",
      "0.14992946 btc                                          2019-10-23 00:00:00\n",
      "                      1234.5655 $                      2019-11-01 00:00:00\n",
      "0.18087977 btc                                          2019-11-28 00:00:00\n",
      "                      1513.5218 $                      2020-02-02 00:00:00\n",
      "0.16676418 btc                                          2020-02-08 00:00:00\n",
      "                      1032.0194 $                      2020-04-03 00:00:00\n",
      "0.11986596 btc                                          2020-06-06 00:00:00\n",
      "                      999.53825 $                      2020-06-18 00:00:00\n",
      "0.11989394 btc                                          2020-06-24 00:00:00\n",
      "                      1194.5996 $                      2020-08-16 00:00:00\n",
      "0.13656271 btc                                          2020-09-06 00:00:00\n",
      "                      1252.0655 $                      2020-09-20 00:00:00\n",
      "0.080937884 btc                                          2020-12-09 00:00:00\n",
      "                      2350.6368 $                      2021-01-11 00:00:00\n",
      "0.088617367 btc                                          2021-01-23 00:00:00\n",
      "                      3372.8975 $                      2021-02-08 00:00:00\n",
      "0.084751726 btc                                          2021-02-15 00:00:00\n",
      "                      3710.2525 $                      2021-03-08 00:00:00\n",
      "0.079694121 btc                                          2021-03-23 00:00:00\n",
      "                      3975.85 $                      2021-03-31 00:00:00\n",
      "0.078009916 btc                                          2021-04-11 00:00:00\n",
      "                      3584.7814 $                      2021-04-19 00:00:00\n",
      "0.078791316 btc                                          2021-04-28 00:00:00\n",
      "                      3759.1905 $                      2021-04-30 00:00:00\n",
      "0.10632916 btc                                          2021-05-18 00:00:00\n",
      "                      3345.8999 $                      2021-05-24 00:00:00\n",
      "0.10308802 btc                                          2021-05-26 00:00:00\n",
      "                      3087.97 $                      2021-06-18 00:00:00\n",
      "0.11531521 btc                                          2021-06-21 00:00:00\n",
      "                      3345.8729 $                      2021-07-03 00:00:00\n",
      "0.13132298 btc                                          2021-07-20 00:00:00\n",
      "                      5498.6122 $                      2021-08-22 00:00:00\n",
      "0.13671184 btc                                          2021-08-26 00:00:00\n",
      "                      5469.8517 $                      2021-09-19 00:00:00\n",
      "0.14568281 btc                                          2021-09-22 00:00:00\n",
      "                      7681.5476 $                      2021-10-15 00:00:00\n",
      "resultat = 7681.547556690807\n"
     ]
    },
    {
     "data": {
      "image/png": "[encoded data removed]",
      "text/plain": [
       "<Figure size 432x288 with 1 Axes>"
      ]
     },
     "metadata": {
      "needs_background": "light"
     },
     "output_type": "display_data"
    }
   ],
   "source": [
    "data_t=data[28:-3].drop(['Open','Adj Close'],axis=1).copy()\n",
    "data_t=data_t.dropna(axis=0)\n",
    "\n",
    "X = data_t.drop(['day3'], axis=1)\n",
    "Y = data_t['day3'].values\n",
    "resultat=[]  \n",
    "params = {'ccp_alpha'   :[1.e-2,1.e-3,1.e-4,1.e-5]}    \n",
    "    \n",
    "for i in range(0,1):    \n",
    "    X_train1, X_test, Y_train1, Y_test = train_test_split(X, Y, test_size=0.2, random_state=132)\n",
    "    X_train, X_valid, Y_train, Y_valid = train_test_split(X_train1, Y_train1, test_size=0.2, random_state=132)\n",
    "\n",
    "\n",
    "    preprocessor=StandardScaler()\n",
    "    preprocessor.fit(X)\n",
    "\n",
    "    X_std  = preprocessor.transform(X)\n",
    "    X_train_std  = preprocessor.transform(X_train)\n",
    "    X_test_std   = preprocessor.transform(X_test)\n",
    "    X_valid_std  = preprocessor.transform(X_valid)\n",
    "\n",
    "\n",
    "    grid = GridSearchCV(RandomForestRegressor(n_jobs=3),\n",
    "                        param_grid=params,cv=5,scoring=custom_score)\n",
    "    grid.fit(X_train_std, Y_train)\n",
    "    #\n",
    "    best=grid.best_estimator_\n",
    "    data_t['day3_predict']=best.predict(X_std)\n",
    "\n",
    "    data_t['buy']=np.zeros(len(data_t))\n",
    "    data_t['sell']=np.zeros(len(data_t))\n",
    "    data_t.loc[data_t['day3_predict'] >0.4,'buy'] = 1\n",
    "    data_t.loc[data_t['day3_predict'] < -0.4,'sell'] = 1    \n",
    "    data_r=data_t.loc[X_valid.index.union(X_test.index).values,:]\n",
    "\n",
    "    resultat.append(evaluation(data_r))\n",
    "    print(f\"resultat = {resultat[i]}\")\n",
    "sns.histplot(resultat, bins=100);"
   ]
  },
  {
   "cell_type": "code",
   "execution_count": 25,
   "id": "6ea9da21",
   "metadata": {
    "ExecuteTime": {
     "end_time": "2021-11-18T21:35:30.695386Z",
     "start_time": "2021-11-18T21:35:30.369261Z"
    },
    "scrolled": true
   },
   "outputs": [
    {
     "data": {
      "text/plain": [
       "7681.547556690807"
      ]
     },
     "execution_count": 25,
     "metadata": {},
     "output_type": "execute_result"
    },
    {
     "data": {
      "image/png": "[encoded data removed]",
      "text/plain": [
       "<Figure size 1296x360 with 1 Axes>"
      ]
     },
     "metadata": {
      "needs_background": "light"
     },
     "output_type": "display_data"
    }
   ],
   "source": [
    "fig = plt.figure(figsize=(18, 5))\n",
    "sns.histplot(resultat, bins=100);\n",
    "np.array(resultat).mean()"
   ]
  },
  {
   "cell_type": "code",
   "execution_count": 26,
   "id": "b428f1da",
   "metadata": {
    "ExecuteTime": {
     "end_time": "2021-11-18T21:35:30.711346Z",
     "start_time": "2021-11-18T21:35:30.697382Z"
    }
   },
   "outputs": [
    {
     "data": {
      "text/plain": [
       "(673, 14)"
      ]
     },
     "execution_count": 26,
     "metadata": {},
     "output_type": "execute_result"
    }
   ],
   "source": [
    "X_std.shape"
   ]
  },
  {
   "cell_type": "markdown",
   "id": "11a9eb1c",
   "metadata": {},
   "source": [
    "#  Validation HEure par heure"
   ]
  },
  {
   "cell_type": "code",
   "execution_count": 27,
   "id": "23f28ff4",
   "metadata": {
    "ExecuteTime": {
     "end_time": "2021-11-18T21:35:30.741779Z",
     "start_time": "2021-11-18T21:35:30.715852Z"
    }
   },
   "outputs": [],
   "source": [
    "def getBalance(myclient, coin):\n",
    "    jsonBalance = myclient.get_balances()\n",
    "    pandaBalance = pd.DataFrame(jsonBalance)\n",
    "    if pandaBalance.loc[pandaBalance['coin'] == coin].empty : return 0\n",
    "    else : return float(pandaBalance.loc[pandaBalance['coin'] == coin]['free'])\n",
    "\n",
    "def truncate(n, decimals=0):\n",
    "    r = floor(float(n)*10**decimals)/10**decimals\n",
    "    return str(r)\n",
    "\n",
    "#valeur à prédire\n",
    "def plus_3(data):\n",
    "    from scipy.special import cbrt #racine cubique 3\n",
    "    data['day3']=np.nan\n",
    "    for i, date in enumerate(data[:-3].index) :\n",
    "        data['day3'][i] = cbrt((data.iloc[i+3]['close']/data.iloc[i]['close']-1)*100)\n",
    "    return data\n",
    "def plus_x(data,x=3):\n",
    "    from scipy.special import cbrt #racine cubique 3\n",
    "    data['plus_x']=np.nan\n",
    "    for i, date in enumerate(data[:-x].index) :\n",
    "        data['plus_x'][i] = cbrt((data.iloc[i+x]['close']/data.iloc[i]['close']-1)*100)\n",
    "    return data\n",
    "\n",
    "\n",
    "#indicateur\n",
    "def indicator(data):\n",
    "    data['VarianceHigh']  = (data['high']-data['close'])\n",
    "    data['VarianceLow']   = (data['close']-data['low'])\n",
    "    data['RollingMax']    = data['close'].shift(1).rolling(window=28).max()\n",
    "    data['RollingMin']    = data['close'].shift(1).rolling(window=28).min()\n",
    "    data['SMA']=ta.trend.sma_indicator(data['close'], window=12)\n",
    "\n",
    "    #Relative Strength Index (RSI)\n",
    "    data['RSI'] =ta.momentum.rsi(close=data['close'], window=14)\n",
    "\n",
    "    # #Average True Range (ATR) trop de NAN\n",
    "    #data['ATR'] = ta.volatility.average_true_range(high=data['high'], low=data['low'], close=data['Close'], window=14)\n",
    "\n",
    "    # #Stochastic RSI\n",
    "    data['STOCH_RSI'] = ta.momentum.stochrsi(close=data['close'], window=14, smooth1=3, smooth2=3) #Non moyenné \n",
    "    data['STOCH_RSI_D'] = ta.momentum.stochrsi_d(close=data['close'], window=14, smooth1=3, smooth2=3) #Orange sur TradingView\n",
    "    data['STOCH_RSI_K'] =ta.momentum.stochrsi_k(close=data['close'], window=14, smooth1=3, smooth2=3) #Bleu sur TradingView\n",
    "\n",
    "    # #Choppiness index\n",
    "    data['CHOP'] = get_chop(high=data['high'], low=data['low'], close=data['close'], window=14)  \n",
    "    \n",
    "    \n",
    "    return data\n",
    "\n",
    "def evaluation(data_t):\n",
    "    frais=0.00067\n",
    "    btc=0.0\n",
    "    usdt=1000\n",
    "    lastindex=data_t.first_valid_index()\n",
    "\n",
    "    for index,row in data_t.iterrows():\n",
    "        if  data_t['buy'][index] and usdt>10:\n",
    "            btc =usdt/data_t['close'][index]\n",
    "            btc = btc - (frais*btc)\n",
    "            usdt=0\n",
    "            print(f\"{btc:.8} btc                                         \",index)\n",
    "\n",
    "        if data_t['sell'][index] and btc > 0.0001:\n",
    "            usdt =btc*data_t['close'][index]\n",
    "            usdt = usdt -(0.007*usdt)\n",
    "            btc=0\n",
    "            print(f\"                      {usdt:.8} $                     \",index)\n",
    "        lastindex=index\n",
    "\n",
    "    return usdt +btc*data_t['close'].iloc[-1]\n"
   ]
  },
  {
   "cell_type": "code",
   "execution_count": 28,
   "id": "89df74b9",
   "metadata": {
    "ExecuteTime": {
     "end_time": "2021-11-18T21:37:13.454039Z",
     "start_time": "2021-11-18T21:35:30.742777Z"
    }
   },
   "outputs": [
    {
     "name": "stdout",
     "output_type": "stream",
     "text": [
      "dl le fichier dans data en cours: \n"
     ]
    },
    {
     "name": "stderr",
     "output_type": "stream",
     "text": [
      "C:\\Users\\polo1\\AppData\\Local\\Temp\\ipykernel_20308\\1969172682.py:22: SettingWithCopyWarning: \n",
      "A value is trying to be set on a copy of a slice from a DataFrame\n",
      "\n",
      "See the caveats in the documentation: https://pandas.pydata.org/pandas-docs/stable/user_guide/indexing.html#returning-a-view-versus-a-copy\n",
      "  data['plus_x'][i] = cbrt((data.iloc[i+x]['close']/data.iloc[i]['close']-1)*100)\n"
     ]
    },
    {
     "data": {
      "text/html": [
       "<div>\n",
       "<style scoped>\n",
       "    .dataframe tbody tr th:only-of-type {\n",
       "        vertical-align: middle;\n",
       "    }\n",
       "\n",
       "    .dataframe tbody tr th {\n",
       "        vertical-align: top;\n",
       "    }\n",
       "\n",
       "    .dataframe thead th {\n",
       "        text-align: right;\n",
       "    }\n",
       "</style>\n",
       "<table border=\"1\" class=\"dataframe\">\n",
       "  <thead>\n",
       "    <tr style=\"text-align: right;\">\n",
       "      <th></th>\n",
       "      <th>high</th>\n",
       "      <th>low</th>\n",
       "      <th>close</th>\n",
       "      <th>volume</th>\n",
       "      <th>plus_x</th>\n",
       "      <th>VarianceHigh</th>\n",
       "      <th>VarianceLow</th>\n",
       "      <th>RollingMax</th>\n",
       "      <th>RollingMin</th>\n",
       "      <th>SMA</th>\n",
       "      <th>RSI</th>\n",
       "      <th>STOCH_RSI</th>\n",
       "      <th>STOCH_RSI_D</th>\n",
       "      <th>STOCH_RSI_K</th>\n",
       "      <th>CHOP</th>\n",
       "    </tr>\n",
       "    <tr>\n",
       "      <th>timestamp</th>\n",
       "      <th></th>\n",
       "      <th></th>\n",
       "      <th></th>\n",
       "      <th></th>\n",
       "      <th></th>\n",
       "      <th></th>\n",
       "      <th></th>\n",
       "      <th></th>\n",
       "      <th></th>\n",
       "      <th></th>\n",
       "      <th></th>\n",
       "      <th></th>\n",
       "      <th></th>\n",
       "      <th></th>\n",
       "      <th></th>\n",
       "    </tr>\n",
       "  </thead>\n",
       "  <tbody>\n",
       "    <tr>\n",
       "      <th>2017-08-17 04:00:00</th>\n",
       "      <td>4313.62</td>\n",
       "      <td>4261.32</td>\n",
       "      <td>4308.83</td>\n",
       "      <td>47.18100900</td>\n",
       "      <td>0.830927</td>\n",
       "      <td>4.79</td>\n",
       "      <td>47.51</td>\n",
       "      <td>NaN</td>\n",
       "      <td>NaN</td>\n",
       "      <td>NaN</td>\n",
       "      <td>NaN</td>\n",
       "      <td>NaN</td>\n",
       "      <td>NaN</td>\n",
       "      <td>NaN</td>\n",
       "      <td>NaN</td>\n",
       "    </tr>\n",
       "    <tr>\n",
       "      <th>2017-08-17 05:00:00</th>\n",
       "      <td>4328.69</td>\n",
       "      <td>4291.37</td>\n",
       "      <td>4315.32</td>\n",
       "      <td>23.23491600</td>\n",
       "      <td>0.792514</td>\n",
       "      <td>13.37</td>\n",
       "      <td>23.95</td>\n",
       "      <td>NaN</td>\n",
       "      <td>NaN</td>\n",
       "      <td>NaN</td>\n",
       "      <td>NaN</td>\n",
       "      <td>NaN</td>\n",
       "      <td>NaN</td>\n",
       "      <td>NaN</td>\n",
       "      <td>NaN</td>\n",
       "    </tr>\n",
       "    <tr>\n",
       "      <th>2017-08-17 06:00:00</th>\n",
       "      <td>4345.45</td>\n",
       "      <td>4309.37</td>\n",
       "      <td>4324.35</td>\n",
       "      <td>7.22969100</td>\n",
       "      <td>-0.968382</td>\n",
       "      <td>21.10</td>\n",
       "      <td>14.98</td>\n",
       "      <td>NaN</td>\n",
       "      <td>NaN</td>\n",
       "      <td>NaN</td>\n",
       "      <td>NaN</td>\n",
       "      <td>NaN</td>\n",
       "      <td>NaN</td>\n",
       "      <td>NaN</td>\n",
       "      <td>NaN</td>\n",
       "    </tr>\n",
       "  </tbody>\n",
       "</table>\n",
       "</div>"
      ],
      "text/plain": [
       "                        high      low    close       volume    plus_x  \\\n",
       "timestamp                                                               \n",
       "2017-08-17 04:00:00  4313.62  4261.32  4308.83  47.18100900  0.830927   \n",
       "2017-08-17 05:00:00  4328.69  4291.37  4315.32  23.23491600  0.792514   \n",
       "2017-08-17 06:00:00  4345.45  4309.37  4324.35   7.22969100 -0.968382   \n",
       "\n",
       "                     VarianceHigh  VarianceLow  RollingMax  RollingMin  SMA  \\\n",
       "timestamp                                                                     \n",
       "2017-08-17 04:00:00          4.79        47.51         NaN         NaN  NaN   \n",
       "2017-08-17 05:00:00         13.37        23.95         NaN         NaN  NaN   \n",
       "2017-08-17 06:00:00         21.10        14.98         NaN         NaN  NaN   \n",
       "\n",
       "                     RSI  STOCH_RSI  STOCH_RSI_D  STOCH_RSI_K  CHOP  \n",
       "timestamp                                                            \n",
       "2017-08-17 04:00:00  NaN        NaN          NaN          NaN   NaN  \n",
       "2017-08-17 05:00:00  NaN        NaN          NaN          NaN   NaN  \n",
       "2017-08-17 06:00:00  NaN        NaN          NaN          NaN   NaN  "
      ]
     },
     "execution_count": 28,
     "metadata": {},
     "output_type": "execute_result"
    }
   ],
   "source": [
    "#gestion des dichiers\n",
    "import os\n",
    "from pathlib import Path\n",
    "import pickle\n",
    "import wget \n",
    "\n",
    "if not Path( r'./Data/btcusdt_train.pkl').is_file() or 1:\n",
    "    print('dl le fichier dans data en cours: ')\n",
    "    os.makedirs('./Data/', exist_ok=True)\n",
    "    client = Client()\n",
    "    klinesT = client.get_historical_klines(\"BTCUSDT\", Client.KLINE_INTERVAL_1HOUR, \"01 january 2012\")\n",
    "\n",
    "    df = pd.DataFrame(klinesT, columns = ['timestamp', 'open', 'high', 'low', 'close', 'volume', 'close_time', 'quote_av', 'trades', 'tb_base_av', 'tb_quote_av', 'ignore' ])\n",
    "    df['close'] = pd.to_numeric(df['close'])\n",
    "    df['high'] = pd.to_numeric(df['high'])\n",
    "    df['low'] = pd.to_numeric(df['low'])\n",
    "    df['open'] = pd.to_numeric(df['open'])\n",
    "\n",
    "    df = df.set_index(df['timestamp'])\n",
    "    df.index = pd.to_datetime(df.index, unit='ms')\n",
    "    df = df.drop( ['timestamp','open',\n",
    "                   'close_time', 'quote_av', 'trades', 'tb_base_av', 'tb_quote_av', 'ignore'],axis=1)\n",
    "\n",
    "    df.to_pickle(r'./Data/btcusdt_train.pkl')\n",
    "else:\n",
    "    df= pd.read_pickle(r'./Data/btcusdt_train.pkl')\n",
    "    \n",
    "\n",
    "df=plus_x(df,17)\n",
    "df=indicator(df)    \n",
    "df.head(3)"
   ]
  },
  {
   "cell_type": "code",
   "execution_count": null,
   "id": "8565470e",
   "metadata": {},
   "outputs": [],
   "source": []
  },
  {
   "cell_type": "code",
   "execution_count": 29,
   "id": "8c8ef9fb",
   "metadata": {
    "ExecuteTime": {
     "end_time": "2021-11-18T21:37:36.403334Z",
     "start_time": "2021-11-18T21:37:13.460021Z"
    },
    "scrolled": true
   },
   "outputs": [
    {
     "name": "stdout",
     "output_type": "stream",
     "text": [
      "(41282, 15)\n",
      "test (8257, 18)\n",
      "0.017081344 btc                                          2021-04-09 12:00:00\n",
      "                      71.367343 $                      2017-09-27 21:00:00\n",
      "0.01356666 btc                                          2019-04-22 08:00:00\n",
      "                      245.08366 $                      2020-12-10 11:00:00\n",
      "0.036466751 btc                                          2018-06-18 21:00:00\n",
      "                      299.26148 $                      2018-07-26 19:00:00\n",
      "0.043594894 btc                                          2018-04-07 10:00:00\n",
      "                      424.02983 $                      2020-02-24 12:00:00\n",
      "0.056970462 btc                                          2019-10-25 01:00:00\n",
      "                      2658.5771 $                      2021-12-31 02:00:00\n",
      "0.35692447 btc                                          2018-07-22 08:00:00\n",
      "                      3011.6711 $                      2019-11-15 18:00:00\n",
      "0.5677777 btc                                          2020-03-14 21:00:00\n",
      "                      3519.0964 $                      2017-11-12 11:00:00\n",
      "0.39068796 btc                                          2020-03-06 15:00:00\n",
      "                      22485.221 $                      2021-05-03 17:00:00\n",
      "0.38296178 btc                                          2021-11-21 03:00:00\n",
      "                      22306.385 $                      2021-05-03 11:00:00\n",
      "4.6419804 btc                                          2017-10-10 14:00:00\n",
      "                      30399.84 $                      2018-10-10 12:00:00\n",
      "7.7307161 btc                                          2018-12-23 23:00:00\n",
      "                      56509.763 $                      2019-05-18 03:00:00\n",
      "1.1716646 btc                                          2021-12-06 14:00:00\n",
      "                      10089.539 $                      2018-05-13 16:00:00\n",
      "0.91441337 btc                                          2018-01-27 04:00:00\n",
      "                      3367.1009 $                      2018-12-27 08:00:00\n",
      "0.17831235 btc                                          2020-12-12 22:00:00\n",
      "                      1731.2254 $                      2018-02-24 16:00:00\n",
      "0.19596969 btc                                          2020-05-02 10:00:00\n",
      "                      1393.1341 $                      2017-11-09 14:00:00\n",
      "0.1558143 btc                                          2018-04-26 04:00:00\n",
      "                      5541.5122 $                      2021-05-28 16:00:00\n",
      "0.88805847 btc                                          2018-07-13 00:00:00\n",
      "                      6613.8155 $                      2017-11-05 16:00:00\n",
      "0.20613157 btc                                          2021-07-22 04:00:00\n",
      "                      1960.076 $                      2020-05-28 23:00:00\n",
      "0.28699821 btc                                          2017-11-15 09:00:00\n",
      "                      2127.6469 $                      2018-07-20 08:00:00\n",
      "0.065297427 btc                                          2021-01-11 18:00:00\n",
      "                      616.18428 $                      2020-05-21 05:00:00\n",
      "0.071476745 btc                                          2018-05-14 02:00:00\n",
      "                      774.50024 $                      2020-09-17 22:00:00\n",
      "0.1439269 btc                                          2019-04-24 10:00:00\n",
      "                      943.56685 $                      2018-08-08 00:00:00\n",
      "0.16656886 btc                                          2017-10-20 12:00:00\n",
      "                      1295.5792 $                      2019-06-06 01:00:00\n",
      "0.1312952 btc                                          2017-11-28 16:00:00\n",
      "                      1294.6337 $                      2018-05-05 15:00:00\n",
      "0.11412356 btc                                          2020-10-17 09:00:00\n",
      "                      845.91901 $                      2018-08-04 08:00:00\n",
      "0.022064377 btc                                          2021-02-07 04:00:00\n",
      "                      171.55669 $                      2017-11-17 14:00:00\n",
      "0.018312553 btc                                          2020-06-12 04:00:00\n",
      "                      436.06107 $                      2020-12-21 07:00:00\n",
      "0.037841845 btc                                          2020-08-29 20:00:00\n",
      "                      1799.1777 $                      2021-10-03 15:00:00\n",
      "0.47418257 btc                                          2019-02-27 22:00:00\n",
      "                      3100.3946 $                      2018-08-17 23:00:00\n",
      "0.37655503 btc                                          2018-05-18 21:00:00\n",
      "                      17643.857 $                      2021-09-08 01:00:00\n",
      "2.1979162 btc                                          2020-01-10 18:00:00\n",
      "                      18770.769 $                      2019-05-30 17:00:00\n",
      "0.38841912 btc                                          2021-08-27 19:00:00\n",
      "                      2757.7679 $                      2019-05-11 22:00:00\n",
      "0.26842795 btc                                          2019-09-09 06:00:00\n",
      "                      1827.1957 $                      2020-04-10 22:00:00\n",
      "0.045722249 btc                                          2022-04-13 00:00:00\n",
      "                      538.94946 $                      2020-08-10 12:00:00\n",
      "0.14099688 btc                                          2018-12-04 05:00:00\n",
      "                      906.69576 $                      2018-09-17 11:00:00\n",
      "0.23092347 btc                                          2019-03-15 23:00:00\n",
      "                      904.38683 $                      2017-09-13 16:00:00\n",
      "0.08487377 btc                                          2019-08-04 12:00:00\n",
      "                      687.64865 $                      2019-10-16 02:00:00\n",
      "0.086211222 btc                                          2019-10-16 16:00:00\n",
      "                      1596.7933 $                      2020-11-21 05:00:00\n",
      "0.04226389 btc                                          2022-01-29 10:00:00\n",
      "                      278.40508 $                      2020-03-27 17:00:00\n",
      "0.0045873869 btc                                          2021-11-06 15:00:00\n",
      "                      232.03287 $                      2021-05-14 13:00:00\n",
      "0.0050111755 btc                                          2021-09-09 08:00:00\n",
      "                      194.89875 $                      2022-03-13 02:00:00\n",
      "0.038567954 btc                                          2019-04-13 21:00:00\n",
      "                      400.76805 $                      2020-09-04 12:00:00\n",
      "0.049859017 btc                                          2019-09-27 17:00:00\n",
      "                      539.20206 $                      2019-08-20 00:00:00\n",
      "0.081794485 btc                                          2018-09-30 09:00:00\n",
      "                      961.82108 $                      2019-08-10 08:00:00\n",
      "0.13409834 btc                                          2020-04-23 12:00:00\n",
      "                      888.30936 $                      2018-10-08 17:00:00\n",
      "0.02256483 btc                                          2022-04-22 17:00:00\n",
      "                      144.91334 $                      2018-09-13 20:00:00\n",
      "0.0027804822 btc                                          2021-03-26 00:00:00\n",
      "                      114.19251 $                      2022-03-20 21:00:00\n",
      "0.0023736855 btc                                          2021-02-23 09:00:00\n",
      "                      9.5225617 $                      2019-03-21 09:00:00\n",
      "resultat = 9.522562     score train = 0.9323657 score valid  :  0.9314264\n",
      "\n"
     ]
    },
    {
     "data": {
      "image/png": "[encoded data removed]",
      "text/plain": [
       "<Figure size 1296x576 with 1 Axes>"
      ]
     },
     "metadata": {
      "needs_background": "light"
     },
     "output_type": "display_data"
    }
   ],
   "source": [
    "\n",
    "data_t=df.dropna(axis=0).copy()\n",
    "print(data_t.shape)\n",
    "X = data_t.drop(['plus_x'], axis=1)\n",
    "Y = data_t['plus_x'].values\n",
    "resultat=[]  \n",
    "  \n",
    "\n",
    "\n",
    "for i in range(0,1):    \n",
    "    X_train1, X_test, Y_train1, Y_test = train_test_split(X, Y, test_size=0.2, random_state=12)\n",
    "    X_train, X_valid, Y_train, Y_valid = train_test_split(X_train1, Y_train1, test_size=0.2, random_state=12)\n",
    "\n",
    "\n",
    "    preprocessor=StandardScaler().fit(X)\n",
    "    \n",
    "    X_std  = preprocessor.transform(X)\n",
    "    X_train_std  = preprocessor.transform(X_train)\n",
    "    X_test_std   = preprocessor.transform(X_test)\n",
    "    X_valid_std  = preprocessor.transform(X_valid)\n",
    "\n",
    "\n",
    "    best = RandomForestRegressor(n_jobs=-2).fit(X_std, Y)\n",
    "  \n",
    "   \n",
    "    data_t['predict']=best.predict(X_std)\n",
    "\n",
    "    data_t['buy']=np.zeros(len(data_t))\n",
    "    data_t['sell']=np.zeros(len(data_t))\n",
    "    data_t.loc[data_t['predict'] >0.4,'buy'] = 1\n",
    "    data_t.loc[data_t['predict'] < -0.4,'sell'] = 1    \n",
    "    data_r=data_t.loc[X_test.index,:]\n",
    "    print(f\"test {data_r.shape}\")\n",
    "    resultat.append(evaluation(data_r))\n",
    "    print(f\"resultat = {resultat[i]:.7}     score train = {best.score(X_train_std, Y_train):.7} score valid  :  {best.score(X_valid_std, Y_valid):.7}\\n\")\n",
    "fig = plt.figure(figsize=(18, 8))\n",
    "sns.histplot(resultat, bins=100);"
   ]
  },
  {
   "cell_type": "markdown",
   "id": "55a94c12",
   "metadata": {},
   "source": [
    "from sklearn.model_selection import learning_curve\n",
    "\n",
    "N,train_score,val_score=learning_curve(best, X_train_std,Y_train,train_sizes=np.linspace(0.2,1,5),cv=5)\n",
    "\n",
    "\n",
    "plt.plot(N,val_score.mean(axis=1),'g',label='validation')\n",
    "plt.plot(N,train_score.mean(axis=1),label='train');\n",
    "plt.ylabel(\"pourcentages d'apprentissage\",fontsize=15) \n",
    "plt.xlabel(\"train_sizes\" ,fontsize=15)  \n",
    "plt.title(\"KNN learning_curve\", fontdict=font_title)\n",
    "plt.legend();"
   ]
  },
  {
   "cell_type": "code",
   "execution_count": 12,
   "id": "ca72e251",
   "metadata": {},
   "outputs": [
    {
     "name": "stdout",
     "output_type": "stream",
     "text": [
      "Requirement already satisfied: pyyaml in c:\\users\\polo1\\anaconda3\\lib\\site-packages (5.4.1)\n"
     ]
    }
   ],
   "source": [
    "!pip install pyyaml"
   ]
  },
  {
   "cell_type": "markdown",
   "id": "7b7aec51",
   "metadata": {},
   "source": [
    "## <a class=\"anchor\" id=\"section_5\"></a> Bot"
   ]
  },
  {
   "cell_type": "markdown",
   "id": "fffc516b",
   "metadata": {},
   "source": [
    "pip install ftx\n",
    "pip install ciso8601\n",
    "pip install python-binance\n"
   ]
  },
  {
   "cell_type": "code",
   "execution_count": 25,
   "id": "30d523be",
   "metadata": {},
   "outputs": [
    {
     "name": "stderr",
     "output_type": "stream",
     "text": [
      "C:\\Users\\polo1\\AppData\\Local\\Temp\\ipykernel_6696\\1115139103.py:5: YAMLLoadWarning: calling yaml.load() without Loader=... is deprecated, as the default Loader is unsafe. Please read https://msg.pyyaml.org/load for full details.\n",
      "  config = yaml.load(config_file)\n"
     ]
    }
   ],
   "source": [
    "import yaml\n",
    "BOT_CONFIG_FILE = 'env/auth.yaml'\n",
    "\n",
    "with open(BOT_CONFIG_FILE, 'r') as config_file:\n",
    "    config = yaml.load(config_file)\n",
    "    \n",
    "\n",
    "import json\n",
    "\n",
    "subaccount_name=config['FTX']['subaccount_name']\n",
    "api_key=config['FTX']['api_key']\n",
    "api_secret=config['FTX']['api_secret']\n"
   ]
  },
  {
   "cell_type": "code",
   "execution_count": 26,
   "id": "ec345c5c",
   "metadata": {},
   "outputs": [
    {
     "data": {
      "text/plain": [
       "'btcbot'"
      ]
     },
     "execution_count": 26,
     "metadata": {},
     "output_type": "execute_result"
    }
   ],
   "source": [
    "subaccount_name"
   ]
  },
  {
   "cell_type": "code",
   "execution_count": null,
   "id": "ebf570de",
   "metadata": {},
   "outputs": [],
   "source": []
  },
  {
   "cell_type": "code",
   "execution_count": 27,
   "id": "c22bad15",
   "metadata": {
    "ExecuteTime": {
     "end_time": "2021-11-18T21:37:37.115424Z",
     "start_time": "2021-11-18T21:37:36.406327Z"
    }
   },
   "outputs": [
    {
     "ename": "NameError",
     "evalue": "name 'indicator' is not defined",
     "output_type": "error",
     "traceback": [
      "\u001b[1;31m---------------------------------------------------------------------------\u001b[0m",
      "\u001b[1;31mNameError\u001b[0m                                 Traceback (most recent call last)",
      "\u001b[1;32mc:\\Users\\polo1\\Pictures\\Cours Info\\Bot trading\\2. btc +3 day.ipynb Cell 46'\u001b[0m in \u001b[0;36m<module>\u001b[1;34m\u001b[0m\n\u001b[0;32m     <a href='vscode-notebook-cell:/c%3A/Users/polo1/Pictures/Cours%20Info/Bot%20trading/2.%20btc%20%2B3%20day.ipynb#ch0000042?line=29'>30</a>\u001b[0m df\u001b[39m.\u001b[39mindex \u001b[39m=\u001b[39m pd\u001b[39m.\u001b[39mto_datetime(df\u001b[39m.\u001b[39mindex)\n\u001b[0;32m     <a href='vscode-notebook-cell:/c%3A/Users/polo1/Pictures/Cours%20Info/Bot%20trading/2.%20btc%20%2B3%20day.ipynb#ch0000042?line=30'>31</a>\u001b[0m df \u001b[39m=\u001b[39m df\u001b[39m.\u001b[39mdrop( [\u001b[39m'\u001b[39m\u001b[39mtime\u001b[39m\u001b[39m'\u001b[39m,\u001b[39m'\u001b[39m\u001b[39mstartTime\u001b[39m\u001b[39m'\u001b[39m,\u001b[39m'\u001b[39m\u001b[39mopen\u001b[39m\u001b[39m'\u001b[39m],axis\u001b[39m=\u001b[39m\u001b[39m1\u001b[39m)\n\u001b[1;32m---> <a href='vscode-notebook-cell:/c%3A/Users/polo1/Pictures/Cours%20Info/Bot%20trading/2.%20btc%20%2B3%20day.ipynb#ch0000042?line=31'>32</a>\u001b[0m df\u001b[39m=\u001b[39mindicator(df)\u001b[39m.\u001b[39mdropna(axis\u001b[39m=\u001b[39m\u001b[39m0\u001b[39m) \n\u001b[0;32m     <a href='vscode-notebook-cell:/c%3A/Users/polo1/Pictures/Cours%20Info/Bot%20trading/2.%20btc%20%2B3%20day.ipynb#ch0000042?line=32'>33</a>\u001b[0m df\u001b[39m.\u001b[39miloc[\u001b[39m-\u001b[39m\u001b[39m4\u001b[39m:]\n",
      "\u001b[1;31mNameError\u001b[0m: name 'indicator' is not defined"
     ]
    }
   ],
   "source": [
    "import ftx\n",
    "#from ftx import FtxClient\n",
    "import pandas as pd\n",
    "import ta\n",
    "import time\n",
    "import json\n",
    "from math import *\n",
    "\n",
    "accountName = 'btcbot'\n",
    "pairSymbol = 'BTC/USDT'\n",
    "fiatSymbol = 'USDT'\n",
    "cryptoSymbol = 'BTC'\n",
    "myTruncate = 4\n",
    "\n",
    "client = ftx.FtxClient( api_key=api_key,\n",
    "                        api_secret=api_secret,\n",
    "                        subaccount_name=subaccount_name)\n",
    "\n",
    "data = client.get_historical_data(\n",
    "    market_name=pairSymbol, \n",
    "    resolution=3600, \n",
    "    limit=650, \n",
    "    start_time=float(\n",
    "    round(time.time()))-650*3600, \n",
    "    end_time=float(round(time.time())))\n",
    "\n",
    "    \n",
    "df = pd.DataFrame(data)\n",
    "df = df.set_index(df['startTime'])\n",
    "df.index = pd.to_datetime(df.index)\n",
    "df = df.drop( ['time','startTime','open'],axis=1)\n",
    "df=indicator(df).dropna(axis=0) \n",
    "df.iloc[-4:]"
   ]
  },
  {
   "cell_type": "code",
   "execution_count": null,
   "id": "da137ed4",
   "metadata": {
    "ExecuteTime": {
     "start_time": "2021-11-18T21:35:08.181Z"
    },
    "scrolled": true
   },
   "outputs": [
    {
     "ename": "NameError",
     "evalue": "name 'client' is not defined",
     "output_type": "error",
     "traceback": [
      "\u001b[1;31m---------------------------------------------------------------------------\u001b[0m",
      "\u001b[1;31mNameError\u001b[0m                                 Traceback (most recent call last)",
      "\u001b[1;32mc:\\Users\\polo1\\Pictures\\Cours Info\\Bot trading\\2. btc +3 day.ipynb Cell 44'\u001b[0m in \u001b[0;36m<module>\u001b[1;34m\u001b[0m\n\u001b[0;32m      <a href='vscode-notebook-cell:/c%3A/Users/polo1/Pictures/Cours%20Info/Bot%20trading/2.%20btc%20%2B3%20day.ipynb#ch0000043?line=2'>3</a>\u001b[0m \u001b[39mwhile\u001b[39;00m trigger \u001b[39m==\u001b[39m \u001b[39mTrue\u001b[39;00m:\n\u001b[0;32m      <a href='vscode-notebook-cell:/c%3A/Users/polo1/Pictures/Cours%20Info/Bot%20trading/2.%20btc%20%2B3%20day.ipynb#ch0000043?line=3'>4</a>\u001b[0m     \u001b[39mtry\u001b[39;00m:\n\u001b[0;32m      <a href='vscode-notebook-cell:/c%3A/Users/polo1/Pictures/Cours%20Info/Bot%20trading/2.%20btc%20%2B3%20day.ipynb#ch0000043?line=4'>5</a>\u001b[0m \n\u001b[0;32m      <a href='vscode-notebook-cell:/c%3A/Users/polo1/Pictures/Cours%20Info/Bot%20trading/2.%20btc%20%2B3%20day.ipynb#ch0000043?line=5'>6</a>\u001b[0m         \u001b[39m#chargement\u001b[39;00m\n\u001b[1;32m----> <a href='vscode-notebook-cell:/c%3A/Users/polo1/Pictures/Cours%20Info/Bot%20trading/2.%20btc%20%2B3%20day.ipynb#ch0000043?line=6'>7</a>\u001b[0m         data \u001b[39m=\u001b[39m client\u001b[39m.\u001b[39mget_historical_data(\n\u001b[0;32m      <a href='vscode-notebook-cell:/c%3A/Users/polo1/Pictures/Cours%20Info/Bot%20trading/2.%20btc%20%2B3%20day.ipynb#ch0000043?line=7'>8</a>\u001b[0m             market_name\u001b[39m=\u001b[39mpairSymbol, \n\u001b[0;32m      <a href='vscode-notebook-cell:/c%3A/Users/polo1/Pictures/Cours%20Info/Bot%20trading/2.%20btc%20%2B3%20day.ipynb#ch0000043?line=8'>9</a>\u001b[0m             resolution\u001b[39m=\u001b[39m\u001b[39m3600\u001b[39m, \n\u001b[0;32m     <a href='vscode-notebook-cell:/c%3A/Users/polo1/Pictures/Cours%20Info/Bot%20trading/2.%20btc%20%2B3%20day.ipynb#ch0000043?line=9'>10</a>\u001b[0m             limit\u001b[39m=\u001b[39m\u001b[39m650\u001b[39m, \n\u001b[0;32m     <a href='vscode-notebook-cell:/c%3A/Users/polo1/Pictures/Cours%20Info/Bot%20trading/2.%20btc%20%2B3%20day.ipynb#ch0000043?line=10'>11</a>\u001b[0m             start_time\u001b[39m=\u001b[39m\u001b[39mfloat\u001b[39m(\n\u001b[0;32m     <a href='vscode-notebook-cell:/c%3A/Users/polo1/Pictures/Cours%20Info/Bot%20trading/2.%20btc%20%2B3%20day.ipynb#ch0000043?line=11'>12</a>\u001b[0m             \u001b[39mround\u001b[39m(time\u001b[39m.\u001b[39mtime()))\u001b[39m-\u001b[39m\u001b[39m650\u001b[39m\u001b[39m*\u001b[39m\u001b[39m3600\u001b[39m, \n\u001b[0;32m     <a href='vscode-notebook-cell:/c%3A/Users/polo1/Pictures/Cours%20Info/Bot%20trading/2.%20btc%20%2B3%20day.ipynb#ch0000043?line=12'>13</a>\u001b[0m             end_time\u001b[39m=\u001b[39m\u001b[39mfloat\u001b[39m(\u001b[39mround\u001b[39m(time\u001b[39m.\u001b[39mtime())))  \n\u001b[0;32m     <a href='vscode-notebook-cell:/c%3A/Users/polo1/Pictures/Cours%20Info/Bot%20trading/2.%20btc%20%2B3%20day.ipynb#ch0000043?line=13'>14</a>\u001b[0m         df \u001b[39m=\u001b[39m pd\u001b[39m.\u001b[39mDataFrame(data)\n\u001b[0;32m     <a href='vscode-notebook-cell:/c%3A/Users/polo1/Pictures/Cours%20Info/Bot%20trading/2.%20btc%20%2B3%20day.ipynb#ch0000043?line=14'>15</a>\u001b[0m         df \u001b[39m=\u001b[39m df\u001b[39m.\u001b[39mset_index(df[\u001b[39m'\u001b[39m\u001b[39mstartTime\u001b[39m\u001b[39m'\u001b[39m])\n",
      "\u001b[1;31mNameError\u001b[0m: name 'client' is not defined"
     ]
    }
   ],
   "source": [
    "max=0\n",
    "trigger = True\n",
    "while trigger == True:\n",
    "    try:\n",
    "\n",
    "        #chargement\n",
    "        data = client.get_historical_data(\n",
    "            market_name=pairSymbol, \n",
    "            resolution=3600, \n",
    "            limit=650, \n",
    "            start_time=float(\n",
    "            round(time.time()))-650*3600, \n",
    "            end_time=float(round(time.time())))  \n",
    "        df = pd.DataFrame(data)\n",
    "        df = df.set_index(df['startTime'])\n",
    "        df.index = pd.to_datetime(df.index)\n",
    "        df = df.drop( ['time','startTime','open'],axis=1)\n",
    "\n",
    "\n",
    "        #prediction\n",
    "        df = indicator(df).dropna(axis=0) \n",
    "        X_unique  = preprocessor.transform(df)\n",
    "        predict=best.predict(X_unique)[-1]\n",
    "\n",
    "        if abs(max) < abs(predict) : max=predict\n",
    "\n",
    "        #achat/vente\n",
    "        actualPrice = df['close'].iloc[-1]\n",
    "        fiatAmount = getBalance(client, fiatSymbol)\n",
    "        cryptoAmount = getBalance(client, cryptoSymbol)\n",
    "        print(f\"pred {predict:.3}  actualPrice {actualPrice:.5} fiatAmount {fiatAmount:.3} cryptoAmount {cryptoAmount:.4}\")\n",
    "\n",
    "        if float(fiatAmount) > 10 and       predict > 0.4  :\n",
    "            quantityBuy = truncate(float(fiatAmount)/actualPrice, myTruncate)\n",
    "            buyOrder = client.place_order(\n",
    "                market=pairSymbol, \n",
    "                side=\"buy\", \n",
    "                price=None, \n",
    "                size=quantityBuy, \n",
    "                type='market')\n",
    "            print(\"\\n    buyOrder\" ,buyOrder)\n",
    "\n",
    "        if float(cryptoAmount) > 0.0002 and  predict < -0.4:\n",
    "            buyOrder = client.place_order(\n",
    "                market=pairSymbol, \n",
    "                side=\"sell\", \n",
    "                price=None, \n",
    "                size=truncate(cryptoAmount, myTruncate), \n",
    "                type='market')\n",
    "            print(\"\\n    buyOrder\" ,buyOrder)\n",
    "\n",
    "        \n",
    "        time.sleep((65-time.gmtime(time.time()).tm_sec))\n",
    "        \n",
    "    \n",
    "    except  KeyboardInterrupt:\n",
    "        trigger = False\n",
    "print(f\" max = {max}\")\n",
    "\n",
    "\n",
    "print('shutdown complete')"
   ]
  },
  {
   "cell_type": "code",
   "execution_count": null,
   "id": "410e1b8d",
   "metadata": {},
   "outputs": [],
   "source": [
    "sma 200 pour une long tandence"
   ]
  },
  {
   "cell_type": "code",
   "execution_count": null,
   "id": "06d14042",
   "metadata": {
    "ExecuteTime": {
     "start_time": "2021-11-18T21:35:08.188Z"
    }
   },
   "outputs": [],
   "source": [
    "\n",
    "dt = None #resultat isoler\n",
    "dt = pd.DataFrame(columns = ['date','position', 'price', 'frais' ,'fiat', 'coins', 'wallet', 'drawBack'])\n",
    "\n",
    "usdt = 1000\n",
    "initalWallet = usdt\n",
    "coin = 0\n",
    "wallet = 1000\n",
    "lastAth = 0\n",
    "lastIndex = df.first_valid_index()\n",
    "fee = 0.0007\n",
    "\n",
    "for index, row in dfTest.iterrows():\n",
    "  #Buy\n",
    "  if row['EMA28'] > row['EMA48'] and row['STOCH_RSI'] < 0.8 and  usdt > 0:\n",
    "    coin = usdt / row['close']\n",
    "    frais = fee * coin\n",
    "    coin = coin - frais\n",
    "    usdt = 0\n",
    "    wallet = coin * row['close']\n",
    "    if wallet > lastAth:\n",
    "        lastAth = wallet\n",
    "    # print(\"Buy COIN at\",df['close'][index],'$ the', index)\n",
    "    myrow = {'date': index,'position': \"Buy\",'price': row['close'],'frais': frais,'fiat': usdt,'coins': coin,'wallet': wallet,'drawBack':(wallet-lastAth)/lastAth}\n",
    "    dt = dt.append(myrow,ignore_index=True)\n",
    "\n",
    "  #Sell\n",
    "  if row['EMA28'] < row['EMA48'] and row['STOCH_RSI'] > 0.2 and coin > 0:\n",
    "    usdt = coin * row['close']\n",
    "    frais = fee * usdt\n",
    "    usdt = usdt - frais\n",
    "    coin = 0\n",
    "    wallet = usdt\n",
    "    if wallet > lastAth:\n",
    "      lastAth = wallet\n",
    "    # print(\"Sell COIN at\",df['close'][index],'$ the', index)\n",
    "    myrow = {'date': index,'position': \"Sell\",'price': row['close'],'frais': frais,'fiat': usdt,'coins': coin,'wallet': wallet,'drawBack':(wallet-lastAth)/lastAth}\n",
    "    dt = dt.append(myrow,ignore_index=True)\n",
    "  \n",
    "  lastIndex = index\n",
    "\n",
    "#///////////////////////////////////////\n",
    "print(\"Period : [\" + str(dfTest.index[0]) + \"] -> [\" +str(dfTest.index[len(dfTest)-1]) + \"]\")\n",
    "dt = dt.set_index(dt['date'])\n",
    "dt.index = pd.to_datetime(dt.index)\n",
    "dt['resultat'] = dt['wallet'].diff()\n",
    "dt['resultat%'] = dt['wallet'].pct_change()*100\n",
    "dt.loc[dt['position']=='Buy','resultat'] = None\n",
    "dt.loc[dt['position']=='Buy','resultat%'] = None\n",
    "\n",
    "dt['tradeIs'] = ''\n",
    "dt.loc[dt['resultat']>0,'tradeIs'] = 'Good'\n",
    "dt.loc[dt['resultat']<=0,'tradeIs'] = 'Bad'\n",
    "\n",
    "iniClose = dfTest.iloc[0]['close']\n",
    "lastClose = dfTest.iloc[len(dfTest)-1]['close']\n",
    "holdPorcentage = ((lastClose - iniClose)/iniClose) * 100\n",
    "algoPorcentage = ((wallet - initalWallet)/initalWallet) * 100\n",
    "vsHoldPorcentage = ((algoPorcentage - holdPorcentage)/holdPorcentage) * 100\n",
    "\n",
    "print(\"Starting balance : 1000 $\")\n",
    "print(\"Final balance :\",round(wallet,2),\"$\")\n",
    "print(\"Performance vs US Dollar :\",round(algoPorcentage,2),\"%\")\n",
    "print(\"Buy and Hold Performence :\",round(holdPorcentage,2),\"%\")\n",
    "print(\"Performance vs Buy and Hold :\",round(vsHoldPorcentage,2),\"%\")\n",
    "print(\"Number of negative trades : \",dt.groupby('tradeIs')['date'].nunique()['Bad'])\n",
    "print(\"Number of positive trades : \",dt.groupby('tradeIs')['date'].nunique()['Good'])\n",
    "print(\"Average Positive Trades : \",round(dt.loc[dt['tradeIs'] == 'Good', 'resultat%'].sum()/dt.loc[dt['tradeIs'] == 'Good', 'resultat%'].count(),2),\"%\")\n",
    "print(\"Average Negative Trades : \",round(dt.loc[dt['tradeIs'] == 'Bad', 'resultat%'].sum()/dt.loc[dt['tradeIs'] == 'Bad', 'resultat%'].count(),2),\"%\")\n",
    "idbest = dt.loc[dt['tradeIs'] == 'Good', 'resultat%'].idxmax()\n",
    "idworst = dt.loc[dt['tradeIs'] == 'Bad', 'resultat%'].idxmin()\n",
    "print(\"Best trade +\"+str(round(dt.loc[dt['tradeIs'] == 'Good', 'resultat%'].max(),2)),\"%, the \",dt['date'][idbest])\n",
    "print(\"Worst trade\",round(dt.loc[dt['tradeIs'] == 'Bad', 'resultat%'].min(),2),\"%, the \",dt['date'][idworst])\n",
    "print(\"Worst drawBack\", str(100*round(dt['drawBack'].min(),2)),\"%\")\n",
    "print(\"Total fee : \",round(dt['frais'].sum(),2),\"$\")\n",
    "\n",
    "dt[['wallet','price']].plot(subplots=True, figsize=(12,10))\n",
    "print('PLOT')"
   ]
  }
 ],
 "metadata": {
  "interpreter": {
   "hash": "af67f4d2890aa9e73d4474223b184d5cdb4c1d512cb52efffa6187e845d75a41"
  },
  "kernelspec": {
   "display_name": "Python 3.8.8 ('base')",
   "language": "python",
   "name": "python3"
  },
  "language_info": {
   "codemirror_mode": {
    "name": "ipython",
    "version": 3
   },
   "file_extension": ".py",
   "mimetype": "text/x-python",
   "name": "python",
   "nbconvert_exporter": "python",
   "pygments_lexer": "ipython3",
   "version": "3.8.8"
  },
  "toc": {
   "base_numbering": 1,
   "nav_menu": {},
   "number_sections": true,
   "sideBar": true,
   "skip_h1_title": false,
   "title_cell": "Table of Contents",
   "title_sidebar": "Contents",
   "toc_cell": false,
   "toc_position": {
    "height": "calc(100% - 180px)",
    "left": "10px",
    "top": "150px",
    "width": "217.424px"
   },
   "toc_section_display": true,
   "toc_window_display": true
  }
 },
 "nbformat": 4,
 "nbformat_minor": 5
}
